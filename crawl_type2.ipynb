{
 "cells": [
  {
   "cell_type": "markdown",
   "metadata": {},
   "source": [
    "# type 2: 버튼 눌러서 하는 애들\n",
    "- 2020.12.15 수정\n",
    "- url 달라진 곳 : 1131 대구서구, 1194 안산시\n",
    "- 코드 달라진 곳 : 1194 안산시\n",
    "- 유의해야 할 곳 : 1044 고흥군. 확진자 아직까지 없으며 이미지파일로 올려줌."
   ]
  },
  {
   "cell_type": "code",
   "execution_count": 1,
   "metadata": {},
   "outputs": [],
   "source": [
    "import datetime as dt\n",
    "import numpy as np\n",
    "import pandas as pd\n",
    "from pathlib import Path\n",
    "import time\n",
    "from tqdm import tqdm\n",
    "from selenium import webdriver"
   ]
  },
  {
   "cell_type": "code",
   "execution_count": 3,
   "metadata": {},
   "outputs": [],
   "source": [
    "try:\n",
    "    driver.quit()\n",
    "except:\n",
    "    pass\n",
    "\n",
    "# today = '201201'\n",
    "# PATH_DATA = Path.cwd().parent / 'data' / 'raw_tables' / today\n",
    "\n",
    "chromedriver = 'C:/Users/User/Desktop/chromedriver'\n",
    "options = webdriver.ChromeOptions()\n",
    "# options.add_argument('headless')\n",
    "driver = webdriver.Chrome(chromedriver, options = options) \n",
    "driver.set_window_size(1600,2000)"
   ]
  },
  {
   "cell_type": "code",
   "execution_count": 5,
   "metadata": {},
   "outputs": [],
   "source": [
    "nums = [1088,\n",
    "1134,\n",
    "1044,\n",
    "1069,\n",
    "1131,\n",
    "1140,\n",
    "1186,\n",
    "1191,\n",
    "1192,\n",
    "1194,\n",
    "1202,\n",
    "1204,\n",
    "1210,\n",
    "1229]\n"
   ]
  },
  {
   "cell_type": "code",
   "execution_count": 6,
   "metadata": {},
   "outputs": [],
   "source": [
    "urls = ['https://www.nowon.kr/corona19/index.do', \n",
    "'https://www.gwangju.go.kr/c19/contentsView.do?pageId=corona2', \n",
    "'https://www.goheung.go.kr/health/boardList.do?boardId=BD_00104&pageId=health60', \n",
    "'http://michu.incheon.kr/corona/', \n",
    "'https://www.dgs.go.kr/dgs/commu/page.php?mnu_uid=1283929', \n",
    "'http://www.gyeongju.go.kr/design/ko2019/popup/covid/covid19.html#', \n",
    "'https://www.gunpo.go.kr/www/contents.do?key=1008367', \n",
    "'http://corona.seongnam.go.kr/', \n",
    "'https://www.suwon.go.kr/web/safesuwon/corona/PD_index.do', \n",
    "'https://www.ansan.go.kr/www/coronaBoardN.do', \n",
    "'https://corona.yongin.go.kr/index.do', \n",
    "'https://www.ui4u.go.kr/corona_index.jsp', \n",
    "'http://www.hscity.go.kr/www/corona/corona.do',\n",
    "'https://www.sejong.go.kr/bbs/R3391/list.do'] "
   ]
  },
  {
   "cell_type": "markdown",
   "metadata": {},
   "source": [
    "# 서울 노원구 (1088)"
   ]
  },
  {
   "cell_type": "code",
   "execution_count": 5,
   "metadata": {},
   "outputs": [],
   "source": [
    "driver.get(urls[0])\n",
    "html0 = ''\n",
    "but1 = [1,2,3,4,5,6,7,8,9,10]\n",
    "but2 = [3,4,5,6,7,8,9,10,11,12]\n",
    "\n",
    "m = 0\n",
    "try:\n",
    "    \n",
    "    while True:\n",
    "        time.sleep(0.2)\n",
    "        elem = driver.find_element_by_xpath('//*[@id=\"covid_tab_cont\"]/div/div[1]')\n",
    "        html0 += elem.get_attribute('outerHTML')\n",
    "        if m <= 9:\n",
    "            n = but1[m]\n",
    "            driver.find_element_by_xpath(f'//*[@id=\"page-div\"]/a[{n}]').click()\n",
    "            m += 1\n",
    "        else:\n",
    "            n = but2[m%10]\n",
    "            driver.find_element_by_xpath(f'//*[@id=\"page-div\"]/a[{n}]').click()\n",
    "            m += 1\n",
    "except:\n",
    "    pass"
   ]
  },
  {
   "cell_type": "markdown",
   "metadata": {},
   "source": [
    "# 광주광역시 (1134 - 1138, 통합 관리)\n",
    "- 오래걸림.\n",
    "- 왜 click 시작을 2부터 한건지? 0부터 해야 전체가 다 클릭될텐데? 특별한 이유 있었는지?\n",
    "- 0부터로 해서 tr.hide로 된게 없도록 만듦."
   ]
  },
  {
   "cell_type": "code",
   "execution_count": 6,
   "metadata": {},
   "outputs": [
    {
     "name": "stderr",
     "output_type": "stream",
     "text": [
      "100%|██████████| 732/732 [04:53<00:00,  2.49it/s]\n"
     ]
    }
   ],
   "source": [
    "driver.get(urls[1])\n",
    "time.sleep(3)\n",
    "buttons = driver.find_elements_by_xpath('//*[@id=\"co_table\"]/tr')\n",
    "for b in tqdm(buttons[0::2]): #시작을 2에서 0으로 바꿈. \n",
    "    b.click()\n",
    "    time.sleep(0.3)\n",
    "html1 = driver.page_source"
   ]
  },
  {
   "cell_type": "markdown",
   "metadata": {},
   "source": [
    "# 전남 고흥군 (1044)\n",
    "- 확진자가 생긴 이후에 다시 확인해 볼 것.\n",
    "- 없을 때까진 안 해도 될 듯.\n",
    "- 게시글 들어가면 사진만 있어서 할 수 있는 게 없음."
   ]
  },
  {
   "cell_type": "code",
   "execution_count": 7,
   "metadata": {},
   "outputs": [],
   "source": [
    "driver.get(urls[2])\n",
    "time.sleep(0.2)\n",
    "html2 = ''\n",
    "elems = driver.find_elements_by_css_selector('#content_area > div.tab_select > ul > li')\n",
    "for n in range(len(elems)):\n",
    "    time.sleep(0.2)\n",
    "    html2 += driver.find_element_by_xpath('//*[@id=\"font-area\"]').get_attribute('outerHTML')\n",
    "    new_elems = driver.find_elements_by_css_selector('#content_area > div.tab_select > ul > li')\n",
    "    if n != len(elems)-1:\n",
    "        new_elems[n+1].click()"
   ]
  },
  {
   "cell_type": "markdown",
   "metadata": {},
   "source": [
    "# 인천 미추홀구 (1069)"
   ]
  },
  {
   "cell_type": "code",
   "execution_count": 8,
   "metadata": {},
   "outputs": [],
   "source": [
    "driver.get(urls[3])\n",
    "time.sleep(0.2)\n",
    "driver.find_element_by_xpath('//*[@id=\"corona_bbs_197\"]/a').click()\n",
    "\n",
    "html3 = ''\n",
    "but1 = [2,3,4,5,6,7,8,9,10,11]\n",
    "but2 = [4,5,6,7,8,9,10,11,12,13]\n",
    "\n",
    "m = 0\n",
    "try:\n",
    "    while True:\n",
    "        time.sleep(0.2)\n",
    "        elem = driver.find_element_by_xpath('//*[@id=\"bbs_list\"]')\n",
    "        html3 += elem.get_attribute('outerHTML')\n",
    "        if m <= 9:\n",
    "            n = but1[m]\n",
    "            driver.find_element_by_xpath(f'//*[@id=\"bbs_list\"]/div/a[{n}]').click()\n",
    "            m += 1\n",
    "        else:\n",
    "            n = but2[m%10]\n",
    "            driver.find_element_by_xpath(f'//*[@id=\"bbs_list\"]/div/a[{n}]').click()\n",
    "            m += 1\n",
    "except:\n",
    "    pass"
   ]
  },
  {
   "cell_type": "markdown",
   "metadata": {},
   "source": [
    "# 대구 서구 (1131)"
   ]
  },
  {
   "cell_type": "code",
   "execution_count": 8,
   "metadata": {},
   "outputs": [],
   "source": [
    "driver.get(urls[4])\n",
    "time.sleep(0.2)\n",
    "buttons = driver.find_elements_by_xpath('//*[@id=\"content\"]/div/div[3]/a')\n",
    "\n",
    "html4 = ''\n",
    "for n in range(1,len(buttons)+1):\n",
    "    driver.get(urls[4] + f'&page={n}')\n",
    "    time.sleep(0.2)\n",
    "    html4 += driver.find_element_by_xpath('//*[@id=\"tab_con01\"]/div').get_attribute('outerHTML')"
   ]
  },
  {
   "cell_type": "markdown",
   "metadata": {},
   "source": [
    "# 경북 경주시 (1140)\n",
    "- 동선자료가 일정기간 지나면 아예 다 사라져 있음. 동선 비공개처리라는 말도 없고 그냥 삭제."
   ]
  },
  {
   "cell_type": "code",
   "execution_count": 10,
   "metadata": {},
   "outputs": [],
   "source": [
    "driver.get(urls[5])\n",
    "time.sleep(1)\n",
    "driver.find_element_by_xpath('//*[@id=\"covid19\"]/div[4]/ul/li[3]/a').click()\n",
    "time.sleep(1)\n",
    "\n",
    "iframe = driver.find_element_by_xpath('//*[@id=\"iPage\"]/div[3]/iframe')\n",
    "driver.switch_to.frame(iframe)\n",
    "html5 = driver.page_source"
   ]
  },
  {
   "cell_type": "markdown",
   "metadata": {},
   "source": [
    "# 경기 군포군 (1186)\n",
    "- 잘 안 되는 것 같아서 내가 다시 수정함. by 준석\n",
    "- 11.15 다시 수정. by 다은"
   ]
  },
  {
   "cell_type": "code",
   "execution_count": 11,
   "metadata": {},
   "outputs": [],
   "source": [
    "driver.get(urls[6])\n",
    "time.sleep(1)\n",
    "html6 = ''\n",
    "\n",
    "elements = driver.find_elements_by_class_name('tab_item')\n",
    "\n",
    "for x in range(1, len(elements)+1):\n",
    "    time.sleep(0.3)\n",
    "    driver.find_element_by_xpath(f'//*[@id=\"container\"]/div/main/article/header/div[2]/div/div/ul/li[{x}]').click()\n",
    "    html6 += driver.find_element_by_xpath('//*[@id=\"contents\"]/div[1]').get_attribute('outerHTML')\n",
    "    "
   ]
  },
  {
   "cell_type": "markdown",
   "metadata": {},
   "source": [
    "# 경기 성남시 (1191)"
   ]
  },
  {
   "cell_type": "code",
   "execution_count": 12,
   "metadata": {},
   "outputs": [],
   "source": [
    "driver.get(urls[7])\n",
    "time.sleep(0.2)\n",
    "driver.find_element_by_xpath('//*[@id=\"listForm\"]/div/div/ul/li[2]/a').click()\n",
    "time.sleep(0.2)\n",
    "html7 = ''\n",
    "\n",
    "but1 = [1,3,4,5,6,7,8,9,10,11]\n",
    "but2 = [3,4,5,6,7,8,9,10,11,12]\n",
    "\n",
    "m = 0\n",
    "try:\n",
    "    while True:\n",
    "        time.sleep(0.2)\n",
    "        elem = driver.find_element_by_xpath('//*[@id=\"moveTbl\"]')\n",
    "        html7 += elem.get_attribute('outerHTML')\n",
    "        if m <= 9:\n",
    "            n = but1[m]\n",
    "            driver.find_element_by_xpath(f'//*[@id=\"board_group1\"]/div[3]/p/a[{n}]').click()\n",
    "            m += 1\n",
    "        else:\n",
    "            n = but2[m%10]\n",
    "            driver.find_element_by_xpath(f'//*[@id=\"board_group1\"]/div[3]/p/a[{n}]').click()\n",
    "            m += 1\n",
    "except:\n",
    "    pass\n"
   ]
  },
  {
   "cell_type": "markdown",
   "metadata": {},
   "source": [
    "# 경기 수원시 (1192)"
   ]
  },
  {
   "cell_type": "code",
   "execution_count": 13,
   "metadata": {},
   "outputs": [],
   "source": [
    "driver.get(urls[8])\n",
    "time.sleep(0.2)\n",
    "#driver.find_element_by_xpath('/html/body/div[1]/div/ul/li[3]/div/div/div[1]/a[2]').click()\n",
    "time.sleep(0.2)\n",
    "html8 = ''\n",
    "\n",
    "but1 = [2,5,6,7,8]\n",
    "but2 = [4,5,6,7,8]\n",
    "\n",
    "m = 0\n",
    "try:\n",
    "    \n",
    "    while True:\n",
    "        time.sleep(0.2)\n",
    "        elem = driver.find_element_by_xpath('//*[@id=\"confirmListDiv\"]')\n",
    "        html8 += elem.get_attribute('outerHTML')\n",
    "        if m <= 4:\n",
    "            n = but1[m]\n",
    "            driver.find_element_by_xpath(f'//*[@id=\"confirmPageNumDiv\"]/div/a[{n}]').click()\n",
    "            m += 1\n",
    "        else:\n",
    "            n = but2[m%5]\n",
    "            driver.find_element_by_xpath(f'//*[@id=\"confirmPageNumDiv\"]/div/a[{n}]').click()\n",
    "            m += 1\n",
    "except:\n",
    "    pass"
   ]
  },
  {
   "cell_type": "markdown",
   "metadata": {},
   "source": [
    "# 경기 안산시 (1194)\n",
    "- 이동경로 페이지를 클릭하는 코드 추가"
   ]
  },
  {
   "cell_type": "code",
   "execution_count": 7,
   "metadata": {},
   "outputs": [],
   "source": [
    "driver.get(urls[9])\n",
    "time.sleep(0.2)\n",
    "\n",
    "but = [1,2,3,4]\n",
    "html9 = ''\n",
    "m = 0\n",
    "\n",
    "while True:\n",
    "    time.sleep(0.2)\n",
    "    elem = driver.find_element_by_xpath('//*[@id=\"corona_popup_list_1\"]')\n",
    "    html9 += elem.get_attribute('outerHTML')\n",
    "    if m % 5 != 4:\n",
    "        n = but[m%5]\n",
    "        driver.find_element_by_xpath(f'//*[@id=\"p_pagination\"]/span[2]/a[{n}]').click()\n",
    "        m += 1\n",
    "    else:\n",
    "        driver.find_element_by_xpath(f'//*[@id=\"p_pagination\"]/span[3]/a[1]').click()\n",
    "        m += 1\n",
    "    if '(안산#30)' in html9:\n",
    "        break"
   ]
  },
  {
   "cell_type": "markdown",
   "metadata": {},
   "source": [
    "# 경기 용인시 (1202)\n",
    "- 2020.11.11 수정 by 다은"
   ]
  },
  {
   "cell_type": "code",
   "execution_count": 18,
   "metadata": {},
   "outputs": [],
   "source": [
    "driver.get(urls[10])\n",
    "time.sleep(0.2)\n",
    "\n",
    "driver.find_element_by_xpath('//*[@id=\"dgnss_info\"]').click()\n",
    "time.sleep(1)\n",
    "driver.find_element_by_xpath('//*[@id=\"patntWhthrc\"]').click()\n",
    "time.sleep(1)\n",
    "\n",
    "but1 = [4,5,6,7,8,9,10,11,12,13]\n",
    "html10 = ''\n",
    "    \n",
    "m = 0\n",
    "\n",
    "while True:\n",
    "    time.sleep(0.2)\n",
    "    elem = driver.find_element_by_xpath('//*[@id=\"coronabox_6\"]/div[2]')\n",
    "    html10 += elem.get_attribute('outerHTML')\n",
    "    \n",
    "    if '02-23' in html10:\n",
    "        break\n",
    "    \n",
    "    if m <= 9:\n",
    "        n = but1[m]\n",
    "        driver.find_element_by_xpath(f'//*[@id=\"patntInfo\"]/div[3]/ul/li[{n}]/a').click()\n",
    "        m += 1\n",
    "    else:\n",
    "        n = but1[m%10]\n",
    "        driver.find_element_by_xpath(f'//*[@id=\"patntInfo\"]/div[3]/ul/li[{n}]/a').click()\n",
    "        m += 1"
   ]
  },
  {
   "cell_type": "markdown",
   "metadata": {},
   "source": [
    "# 경기 의정부시 (1204)"
   ]
  },
  {
   "cell_type": "code",
   "execution_count": 19,
   "metadata": {},
   "outputs": [],
   "source": [
    "driver.get(urls[11])\n",
    "time.sleep(0.5)\n",
    "\n",
    "html11 = ''\n",
    "m = 1\n",
    "while True:    \n",
    "    \n",
    "    html11 += driver.find_element_by_xpath('//*[@id=\"route\"]').get_attribute('outerHTML')\n",
    "    time.sleep(0.5)\n",
    "    if sum(['타지역 (포천시-5) 의정부시 이동경로' in x.text for x in driver.find_elements_by_css_selector('#coronaDataList > tr')]) > 0:\n",
    "        break\n",
    "    if m % 10 != 0:\n",
    "        time.sleep(0.3)\n",
    "        driver.find_element_by_css_selector(f'#pagination > a:nth-child({m%10 + 3})').click()\n",
    "        time.sleep(0.3)\n",
    "    else:\n",
    "        driver.find_element_by_css_selector('#pagination > a.arrow.next').click()\n",
    "        time.sleep(0.3)\n",
    "    \n",
    "    m += 1\n",
    "    "
   ]
  },
  {
   "cell_type": "markdown",
   "metadata": {},
   "source": [
    "# 경기 화성시 (1210)\n",
    "- 상황보고 파트도 크롤링해야하나?\n",
    "- 언제 break 하는지 수정함."
   ]
  },
  {
   "cell_type": "code",
   "execution_count": 21,
   "metadata": {},
   "outputs": [],
   "source": [
    "driver.get(urls[12])\n",
    "time.sleep(0.2)\n",
    "\n",
    "but1 = [2,3,4,5,6,7,8,9,10,11]\n",
    "but2 = [4,5,6,7,8,9,10,11,12,13]\n",
    "\n",
    "html12 = ''\n",
    "\n",
    "m = 0\n",
    "while True:\n",
    "    time.sleep(0.5)\n",
    "    elem = driver.find_element_by_xpath('//*[@id=\"board1098\"]/table')\n",
    "    html12 += elem.get_attribute('outerHTML')\n",
    "    if '[2020.2.26. 22:10 기준]화성시 코로나19 발생경위' in html12:\n",
    "        break\n",
    "    if m <= 9:\n",
    "        n = but1[m]\n",
    "        driver.find_element_by_xpath(f'//*[@id=\"board1098\"]/div/div/ul/li[{n}]/a').click()\n",
    "        m += 1\n",
    "    else:\n",
    "        n = but2[m%10]\n",
    "        driver.find_element_by_xpath(f'//*[@id=\"board1098\"]/div/div/ul/li[{n}]/a').click()\n",
    "        m += 1\n",
    "        \n",
    "m = 0\n",
    "\n",
    "while True:\n",
    "    time.sleep(0.5)\n",
    "    elem = driver.find_element_by_xpath('//*[@id=\"board1099\"]/table')\n",
    "    html12 += elem.get_attribute('outerHTML')\n",
    "    \n",
    "    if '화성-1 / 화성시 반정동 거주 / 확진일자 2020-02-26 / 경기도의료원 수원병원 / 퇴원' in html12:\n",
    "        break\n",
    "    \n",
    "    if m <= 9:\n",
    "        n = but1[m]\n",
    "        driver.find_element_by_xpath(f'//*[@id=\"board1099\"]/div/div/ul/li[{n}]/a').click()\n",
    "        m += 1\n",
    "    else:\n",
    "        n = but2[m%10]\n",
    "        driver.find_element_by_xpath(f'//*[@id=\"board1099\"]/div/div/ul/li[{n}]/a').click()\n",
    "        m += 1"
   ]
  },
  {
   "cell_type": "markdown",
   "metadata": {},
   "source": [
    "# 세종시 (1229)"
   ]
  },
  {
   "cell_type": "code",
   "execution_count": 22,
   "metadata": {},
   "outputs": [],
   "source": [
    "driver.get(urls[13])\n",
    "time.sleep(0.2)\n",
    "html13 = ''\n",
    "\n",
    "elems = driver.find_elements_by_xpath('//*[@id=\"txt\"]/div/div[3]/div[1]/div/ul/li/a')\n",
    "\n",
    "for n in range(len(elems)):\n",
    "    try:\n",
    "        time.sleep(0.5)\n",
    "        html13 += driver.find_element_by_xpath('//*[@id=\"txt\"]/div/div[2]').get_attribute('outerHTML')\n",
    "        driver.find_element_by_xpath(f'//*[@id=\"txt\"]/div/div[3]/div[1]/div/ul/li[{n+2}]/a').click()\n",
    "    except:\n",
    "        continue"
   ]
  },
  {
   "cell_type": "code",
   "execution_count": 23,
   "metadata": {},
   "outputs": [],
   "source": [
    "df = pd.DataFrame({\n",
    "    'num': nums,\n",
    "    'url': urls\n",
    "})\n",
    "\n",
    "df['html'] = ''"
   ]
  },
  {
   "cell_type": "code",
   "execution_count": null,
   "metadata": {},
   "outputs": [],
   "source": [
    "df.iloc[:,2] = [html0, html1, html2, html3, html4, html5, html6, html7, html8, html9, html10, html11, html12, html13]"
   ]
  },
  {
   "cell_type": "code",
   "execution_count": 25,
   "metadata": {},
   "outputs": [],
   "source": [
    "df['date'] = today\n",
    "df.to_csv(PATH_DATA / (today + '_type2.csv'), index = False)"
   ]
  },
  {
   "cell_type": "code",
   "execution_count": null,
   "metadata": {},
   "outputs": [],
   "source": [
    "driver.quit()"
   ]
  },
  {
   "cell_type": "code",
   "execution_count": null,
   "metadata": {},
   "outputs": [],
   "source": []
  },
  {
   "cell_type": "code",
   "execution_count": null,
   "metadata": {},
   "outputs": [],
   "source": []
  },
  {
   "cell_type": "code",
   "execution_count": null,
   "metadata": {},
   "outputs": [],
   "source": []
  },
  {
   "cell_type": "code",
   "execution_count": null,
   "metadata": {},
   "outputs": [],
   "source": []
  },
  {
   "cell_type": "code",
   "execution_count": null,
   "metadata": {},
   "outputs": [],
   "source": []
  }
 ],
 "metadata": {
  "kernelspec": {
   "display_name": "Python 3",
   "language": "python",
   "name": "python3"
  },
  "language_info": {
   "codemirror_mode": {
    "name": "ipython",
    "version": 3
   },
   "file_extension": ".py",
   "mimetype": "text/x-python",
   "name": "python",
   "nbconvert_exporter": "python",
   "pygments_lexer": "ipython3",
   "version": "3.6.5"
  }
 },
 "nbformat": 4,
 "nbformat_minor": 4
}
