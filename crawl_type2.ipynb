{
 "cells": [
  {
   "cell_type": "markdown",
   "metadata": {},
   "source": [
    "# type 2: 버튼 눌러서 하는 애들\n",
    "- 수정된 곳 : 1134 광주광역시, 1186 군포군, 1194 안산시\n",
    "- 군포시 url 달라짐!!!!!!!\n",
    "- 이전 : http://www.gunpo.go.kr/www/contents.do?key=1006530\n",
    "- 이후 : http://www.gunpo.go.kr/intro.jsp\n",
    "- type4에서 세종시 데리고 옴."
   ]
  },
  {
   "cell_type": "code",
   "execution_count": 45,
   "metadata": {},
   "outputs": [],
   "source": [
    "import datetime as dt\n",
    "import numpy as np\n",
    "import pandas as pd\n",
    "from pathlib import Path\n",
    "import time\n",
    "from tqdm import tqdm\n",
    "from selenium import webdriver"
   ]
  },
  {
   "cell_type": "code",
   "execution_count": 46,
   "metadata": {},
   "outputs": [],
   "source": [
    "try:\n",
    "    driver.quit()\n",
    "except:\n",
    "    pass\n",
    "\n",
    "today = '201107'\n",
    "PATH_DATA = Path.cwd().parent / 'data' / 'raw_tables' / today\n",
    "\n",
    "chromedriver = '/Users/junseoklee/Applications/chromedriver'\n",
    "options = webdriver.ChromeOptions()\n",
    "options.add_argument('headless')\n",
    "driver = webdriver.Chrome(chromedriver, options = options) \n",
    "driver.set_window_size(1600,2000)"
   ]
  },
  {
   "cell_type": "code",
   "execution_count": 47,
   "metadata": {},
   "outputs": [],
   "source": [
    "nums = [1088,\n",
    "1134,\n",
    "1044,\n",
    "1069,\n",
    "1131,\n",
    "1140,\n",
    "1186,\n",
    "1191,\n",
    "1192,\n",
    "1194,\n",
    "1202,\n",
    "1204,\n",
    "1210,\n",
    "1229]"
   ]
  },
  {
   "cell_type": "code",
   "execution_count": 48,
   "metadata": {},
   "outputs": [],
   "source": [
    "urls = ['https://www.nowon.kr/corona19/index.do',\n",
    "'https://www.gwangju.go.kr/c19/c19/contentsView.do?pageId=coronagj2',\n",
    "'https://www.goheung.go.kr/health/boardList.do?boardId=BD_00104&pageId=health60',\n",
    "'http://michu.incheon.kr/corona/',\n",
    "'https://www.dgs.go.kr/COVID/covid19_course.html?',\n",
    "'http://www.gyeongju.go.kr/design/ko2019/popup/covid/covid19.html#',\n",
    "'http://www.gunpo.go.kr/www/contents.do?key=1006530',\n",
    "'http://corona.seongnam.go.kr/',\n",
    "'https://www.suwon.go.kr/web/safesuwon/corona/PD_index.do',\n",
    "'https://www.ansan.go.kr/DATA/preview/corona/coronaPage.html',\n",
    "'https://www.yongin.go.kr/health/ictsd/index.do',\n",
    "'https://www.ui4u.go.kr/corona_index.jsp',\n",
    "'http://www.hscity.go.kr/www/corona/corona.do',\n",
    "'https://www.sejong.go.kr/bbs/R3391/list.do']"
   ]
  },
  {
   "cell_type": "markdown",
   "metadata": {},
   "source": [
    "# 서울 노원구 (1088)"
   ]
  },
  {
   "cell_type": "code",
   "execution_count": 49,
   "metadata": {},
   "outputs": [],
   "source": [
    "driver.get(urls[0])\n",
    "html0 = ''\n",
    "but1 = [1,2,3,4,5,6,7,8,9,10]\n",
    "but2 = [3,4,5,6,7,8,9,10,11,12]\n",
    "\n",
    "m = 0\n",
    "try:\n",
    "    \n",
    "    while True:\n",
    "        time.sleep(0.2)\n",
    "        elem = driver.find_element_by_xpath('//*[@id=\"covid_tab_cont\"]/div/div[1]')\n",
    "        html0 += elem.get_attribute('outerHTML')\n",
    "        if m <= 9:\n",
    "            n = but1[m]\n",
    "            driver.find_element_by_xpath(f'//*[@id=\"page-div\"]/a[{n}]').click()\n",
    "            m += 1\n",
    "        else:\n",
    "            n = but2[m%10]\n",
    "            driver.find_element_by_xpath(f'//*[@id=\"page-div\"]/a[{n}]').click()\n",
    "            m += 1\n",
    "except:\n",
    "    pass"
   ]
  },
  {
   "cell_type": "markdown",
   "metadata": {},
   "source": [
    "# 광주광역시 (1134 - 1138, 통합 관리)\n",
    "- 오래걸림.\n",
    "- 왜 click 시작을 2부터 한건지? 0부터 해야 전체가 다 클릭될텐데? 특별한 이유 있었는지?\n",
    "- 0부터로 해서 tr.hide로 된게 없도록 만듦."
   ]
  },
  {
   "cell_type": "code",
   "execution_count": 50,
   "metadata": {},
   "outputs": [
    {
     "name": "stderr",
     "output_type": "stream",
     "text": [
      "0it [00:00, ?it/s]\n"
     ]
    }
   ],
   "source": [
    "driver.get(urls[1])\n",
    "time.sleep(3)\n",
    "buttons = driver.find_elements_by_xpath('//*[@id=\"co_table\"]/tr')\n",
    "for b in tqdm(buttons[2::2]): #시작을 2에서 0으로 바꿈. \n",
    "    b.click()\n",
    "    time.sleep(0.3)\n",
    "html1 = driver.page_source"
   ]
  },
  {
   "cell_type": "markdown",
   "metadata": {},
   "source": [
    "# 전남 고흥군 (1044)\n",
    "- 확진자가 생긴 이후에 다시 확인해 볼 것.\n",
    "- 없을 때까진 안 해도 될 듯."
   ]
  },
  {
   "cell_type": "code",
   "execution_count": 51,
   "metadata": {},
   "outputs": [],
   "source": [
    "driver.get(urls[2])\n",
    "time.sleep(0.2)\n",
    "driver.find_element_by_xpath('//*[@id=\"aside\"]/ul/li[1]/ul/li[2]').click()\n",
    "html2 = ''\n",
    "elems = driver.find_elements_by_css_selector('#content_area > div.tab_select > ul > li')\n",
    "for n in range(len(elems)):\n",
    "    time.sleep(0.2)\n",
    "    html2 += driver.find_element_by_xpath('//*[@id=\"font-area\"]').get_attribute('outerHTML')\n",
    "    new_elems = driver.find_elements_by_css_selector('#content_area > div.tab_select > ul > li')\n",
    "    if n != len(elems)-1:\n",
    "        new_elems[n+1].click()"
   ]
  },
  {
   "cell_type": "markdown",
   "metadata": {},
   "source": [
    "# 인천 미추홀구 (1069)"
   ]
  },
  {
   "cell_type": "code",
   "execution_count": 52,
   "metadata": {},
   "outputs": [],
   "source": [
    "driver.get(urls[3])\n",
    "time.sleep(0.2)\n",
    "driver.find_element_by_xpath('//*[@id=\"corona_bbs_197\"]/a').click()\n",
    "\n",
    "html3 = ''\n",
    "but1 = [2,3,4,5,6,7,8,9,10,11]\n",
    "but2 = [4,5,6,7,8,9,10,11,12,13]\n",
    "\n",
    "m = 0\n",
    "try:\n",
    "    while True:\n",
    "        time.sleep(0.2)\n",
    "        elem = driver.find_element_by_xpath('//*[@id=\"bbs_list\"]')\n",
    "        html3 += elem.get_attribute('outerHTML')\n",
    "        if m <= 9:\n",
    "            n = but1[m]\n",
    "            driver.find_element_by_xpath(f'//*[@id=\"bbs_list\"]/div/a[{n}]').click()\n",
    "            m += 1\n",
    "        else:\n",
    "            n = but2[m%10]\n",
    "            driver.find_element_by_xpath(f'//*[@id=\"bbs_list\"]/div/a[{n}]').click()\n",
    "            m += 1\n",
    "except:\n",
    "    pass"
   ]
  },
  {
   "cell_type": "markdown",
   "metadata": {},
   "source": [
    "# 대구 서구 (1131)"
   ]
  },
  {
   "cell_type": "code",
   "execution_count": 53,
   "metadata": {},
   "outputs": [],
   "source": [
    "driver.get(urls[4])\n",
    "time.sleep(0.2)\n",
    "buttons = driver.find_elements_by_xpath('//*[@id=\"content\"]/div/div[3]/a')\n",
    "\n",
    "html4 = ''\n",
    "for n in range(1,len(buttons)+1):\n",
    "    driver.get(urls[4] + f'&page={n}')\n",
    "    time.sleep(0.2)\n",
    "    html4 += driver.find_element_by_xpath('//*[@id=\"tab_con01\"]/div').get_attribute('outerHTML')"
   ]
  },
  {
   "cell_type": "markdown",
   "metadata": {},
   "source": [
    "# 경북 경주시 (1140)"
   ]
  },
  {
   "cell_type": "code",
   "execution_count": 54,
   "metadata": {},
   "outputs": [],
   "source": [
    "driver.get(urls[5])\n",
    "time.sleep(1)\n",
    "driver.find_element_by_xpath('//*[@id=\"covid19\"]/div[4]/ul/li[3]/a').click()\n",
    "time.sleep(1)\n",
    "\n",
    "iframe = driver.find_element_by_xpath('//*[@id=\"iPage\"]/div[3]/iframe')\n",
    "driver.switch_to.frame(iframe)\n",
    "html5 = driver.page_source"
   ]
  },
  {
   "cell_type": "markdown",
   "metadata": {},
   "source": [
    "# 경기 군포군 (1186)\n",
    "- 잘 안 되는 것 같아서 내가 다시 수정함. by 준석"
   ]
  },
  {
   "cell_type": "code",
   "execution_count": 55,
   "metadata": {},
   "outputs": [
    {
     "name": "stderr",
     "output_type": "stream",
     "text": [
      "100%|██████████| 20/20 [00:24<00:00,  1.23s/it]\n"
     ]
    }
   ],
   "source": [
    "driver.get(urls[6])\n",
    "time.sleep(1)\n",
    "html6 = ''\n",
    "\n",
    "driver.find_element_by_xpath('//*[@id=\"side\"]/nav/ul/li[4]/ul/li[2]/a').click()\n",
    "time.sleep(1)\n",
    "elements = driver.find_elements_by_css_selector('#colgroup > article > header > div.tab_menu > ul > li')\n",
    "hrefs = [e.find_element_by_css_selector('a').get_attribute('href') for e in elements]\n",
    "for h in tqdm(hrefs):\n",
    "    driver.get(h)\n",
    "    time.sleep(1)\n",
    "    html6 += driver.find_element_by_xpath('//*[@id=\"contents\"]/div[1]').get_attribute('outerHTML')"
   ]
  },
  {
   "cell_type": "markdown",
   "metadata": {},
   "source": [
    "# 경기 성남시 (1191)"
   ]
  },
  {
   "cell_type": "code",
   "execution_count": 56,
   "metadata": {},
   "outputs": [],
   "source": [
    "driver.get(urls[7])\n",
    "time.sleep(0.2)\n",
    "driver.find_element_by_xpath('//*[@id=\"listForm\"]/div/div/ul/li[2]/a').click()\n",
    "time.sleep(0.2)\n",
    "html7 = ''\n",
    "\n",
    "but1 = [1,3,4,5,6,7,8,9,10,11]\n",
    "but2 = [3,4,5,6,7,8,9,10,11,12]\n",
    "\n",
    "m = 0\n",
    "try:\n",
    "    while True:\n",
    "        time.sleep(0.2)\n",
    "        elem = driver.find_element_by_xpath('//*[@id=\"moveTbl\"]')\n",
    "        html7 += elem.get_attribute('outerHTML')\n",
    "        if m <= 9:\n",
    "            n = but1[m]\n",
    "            driver.find_element_by_xpath(f'//*[@id=\"board_group1\"]/div[3]/p/a[{n}]').click()\n",
    "            m += 1\n",
    "        else:\n",
    "            n = but2[m%10]\n",
    "            driver.find_element_by_xpath(f'//*[@id=\"board_group1\"]/div[3]/p/a[{n}]').click()\n",
    "            m += 1\n",
    "except:\n",
    "    pass"
   ]
  },
  {
   "cell_type": "markdown",
   "metadata": {},
   "source": [
    "# 경기 수원시 (1192)"
   ]
  },
  {
   "cell_type": "code",
   "execution_count": 57,
   "metadata": {},
   "outputs": [],
   "source": [
    "driver.get(urls[8])\n",
    "time.sleep(0.2)\n",
    "#driver.find_element_by_xpath('/html/body/div[1]/div/ul/li[3]/div/div/div[1]/a[2]').click()\n",
    "time.sleep(0.2)\n",
    "html8 = ''\n",
    "\n",
    "but1 = [2,5,6,7,8]\n",
    "but2 = [4,5,6,7,8]\n",
    "\n",
    "m = 0\n",
    "try:\n",
    "    \n",
    "    while True:\n",
    "        time.sleep(0.2)\n",
    "        elem = driver.find_element_by_xpath('//*[@id=\"confirmListDiv\"]')\n",
    "        html8 += elem.get_attribute('outerHTML')\n",
    "        if m <= 4:\n",
    "            n = but1[m]\n",
    "            driver.find_element_by_xpath(f'//*[@id=\"confirmPageNumDiv\"]/div/a[{n}]').click()\n",
    "            m += 1\n",
    "        else:\n",
    "            n = but2[m%5]\n",
    "            driver.find_element_by_xpath(f'//*[@id=\"confirmPageNumDiv\"]/div/a[{n}]').click()\n",
    "            m += 1\n",
    "except:\n",
    "    pass"
   ]
  },
  {
   "cell_type": "markdown",
   "metadata": {},
   "source": [
    "# 경기 안산시 (1194)\n",
    "- 이동경로 페이지를 클릭하는 코드 추가"
   ]
  },
  {
   "cell_type": "code",
   "execution_count": 58,
   "metadata": {},
   "outputs": [],
   "source": [
    "driver.get(urls[9])\n",
    "time.sleep(0.2)\n",
    "driver.find_element_by_xpath('/html/body/div[1]/div[3]/div[2]/div[1]/a[1]').click() #새로 삽입\n",
    "\n",
    "but = [1,2,3,4]\n",
    "html9 = ''\n",
    "m = 0\n",
    "\n",
    "while True:\n",
    "    time.sleep(0.2)\n",
    "    elem = driver.find_element_by_xpath('//*[@id=\"corona_popup_list_1\"]')\n",
    "    html9 += elem.get_attribute('outerHTML')\n",
    "    if m % 5 != 4:\n",
    "        n = but[m%5]\n",
    "        driver.find_element_by_xpath(f'//*[@id=\"p_pagination\"]/span[2]/a[{n}]').click()\n",
    "        m += 1\n",
    "    else:\n",
    "        driver.find_element_by_xpath(f'//*[@id=\"p_pagination\"]/span[3]/a[1]').click()\n",
    "        m += 1\n",
    "    if '(안산#30)' in html9:\n",
    "        break"
   ]
  },
  {
   "cell_type": "markdown",
   "metadata": {},
   "source": [
    "# 경기 용인시 (1202), 10월 6일부터 안들어가짐"
   ]
  },
  {
   "cell_type": "code",
   "execution_count": 59,
   "metadata": {},
   "outputs": [
    {
     "ename": "NoSuchElementException",
     "evalue": "Message: no such element: Unable to locate element: {\"method\":\"xpath\",\"selector\":\"//*[@id=\"coronabox_6\"]/div[3]/ul/li[4]/a\"}\n  (Session info: headless chrome=86.0.4240.183)\n",
     "output_type": "error",
     "traceback": [
      "\u001b[0;31m---------------------------------------------------------------------------\u001b[0m",
      "\u001b[0;31mNoSuchElementException\u001b[0m                    Traceback (most recent call last)",
      "\u001b[0;32m<ipython-input-59-89bf69114aa0>\u001b[0m in \u001b[0;36m<module>\u001b[0;34m\u001b[0m\n\u001b[1;32m     27\u001b[0m     \u001b[0;32melse\u001b[0m\u001b[0;34m:\u001b[0m\u001b[0;34m\u001b[0m\u001b[0;34m\u001b[0m\u001b[0m\n\u001b[1;32m     28\u001b[0m         \u001b[0mn\u001b[0m \u001b[0;34m=\u001b[0m \u001b[0mbut2\u001b[0m\u001b[0;34m[\u001b[0m\u001b[0mm\u001b[0m\u001b[0;34m%\u001b[0m\u001b[0;36m10\u001b[0m\u001b[0;34m]\u001b[0m\u001b[0;34m\u001b[0m\u001b[0;34m\u001b[0m\u001b[0m\n\u001b[0;32m---> 29\u001b[0;31m         \u001b[0mdriver\u001b[0m\u001b[0;34m.\u001b[0m\u001b[0mfind_element_by_xpath\u001b[0m\u001b[0;34m(\u001b[0m\u001b[0;34mf'//*[@id=\"coronabox_6\"]/div[3]/ul/li[{n}]/a'\u001b[0m\u001b[0;34m)\u001b[0m\u001b[0;34m.\u001b[0m\u001b[0mclick\u001b[0m\u001b[0;34m(\u001b[0m\u001b[0;34m)\u001b[0m\u001b[0;34m\u001b[0m\u001b[0;34m\u001b[0m\u001b[0m\n\u001b[0m\u001b[1;32m     30\u001b[0m         \u001b[0mm\u001b[0m \u001b[0;34m+=\u001b[0m \u001b[0;36m1\u001b[0m\u001b[0;34m\u001b[0m\u001b[0;34m\u001b[0m\u001b[0m\n",
      "\u001b[0;32m/opt/anaconda3/lib/python3.7/site-packages/selenium/webdriver/remote/webdriver.py\u001b[0m in \u001b[0;36mfind_element_by_xpath\u001b[0;34m(self, xpath)\u001b[0m\n\u001b[1;32m    392\u001b[0m             \u001b[0melement\u001b[0m \u001b[0;34m=\u001b[0m \u001b[0mdriver\u001b[0m\u001b[0;34m.\u001b[0m\u001b[0mfind_element_by_xpath\u001b[0m\u001b[0;34m(\u001b[0m\u001b[0;34m'//div/td[1]'\u001b[0m\u001b[0;34m)\u001b[0m\u001b[0;34m\u001b[0m\u001b[0;34m\u001b[0m\u001b[0m\n\u001b[1;32m    393\u001b[0m         \"\"\"\n\u001b[0;32m--> 394\u001b[0;31m         \u001b[0;32mreturn\u001b[0m \u001b[0mself\u001b[0m\u001b[0;34m.\u001b[0m\u001b[0mfind_element\u001b[0m\u001b[0;34m(\u001b[0m\u001b[0mby\u001b[0m\u001b[0;34m=\u001b[0m\u001b[0mBy\u001b[0m\u001b[0;34m.\u001b[0m\u001b[0mXPATH\u001b[0m\u001b[0;34m,\u001b[0m \u001b[0mvalue\u001b[0m\u001b[0;34m=\u001b[0m\u001b[0mxpath\u001b[0m\u001b[0;34m)\u001b[0m\u001b[0;34m\u001b[0m\u001b[0;34m\u001b[0m\u001b[0m\n\u001b[0m\u001b[1;32m    395\u001b[0m \u001b[0;34m\u001b[0m\u001b[0m\n\u001b[1;32m    396\u001b[0m     \u001b[0;32mdef\u001b[0m \u001b[0mfind_elements_by_xpath\u001b[0m\u001b[0;34m(\u001b[0m\u001b[0mself\u001b[0m\u001b[0;34m,\u001b[0m \u001b[0mxpath\u001b[0m\u001b[0;34m)\u001b[0m\u001b[0;34m:\u001b[0m\u001b[0;34m\u001b[0m\u001b[0;34m\u001b[0m\u001b[0m\n",
      "\u001b[0;32m/opt/anaconda3/lib/python3.7/site-packages/selenium/webdriver/remote/webdriver.py\u001b[0m in \u001b[0;36mfind_element\u001b[0;34m(self, by, value)\u001b[0m\n\u001b[1;32m    976\u001b[0m         return self.execute(Command.FIND_ELEMENT, {\n\u001b[1;32m    977\u001b[0m             \u001b[0;34m'using'\u001b[0m\u001b[0;34m:\u001b[0m \u001b[0mby\u001b[0m\u001b[0;34m,\u001b[0m\u001b[0;34m\u001b[0m\u001b[0;34m\u001b[0m\u001b[0m\n\u001b[0;32m--> 978\u001b[0;31m             'value': value})['value']\n\u001b[0m\u001b[1;32m    979\u001b[0m \u001b[0;34m\u001b[0m\u001b[0m\n\u001b[1;32m    980\u001b[0m     \u001b[0;32mdef\u001b[0m \u001b[0mfind_elements\u001b[0m\u001b[0;34m(\u001b[0m\u001b[0mself\u001b[0m\u001b[0;34m,\u001b[0m \u001b[0mby\u001b[0m\u001b[0;34m=\u001b[0m\u001b[0mBy\u001b[0m\u001b[0;34m.\u001b[0m\u001b[0mID\u001b[0m\u001b[0;34m,\u001b[0m \u001b[0mvalue\u001b[0m\u001b[0;34m=\u001b[0m\u001b[0;32mNone\u001b[0m\u001b[0;34m)\u001b[0m\u001b[0;34m:\u001b[0m\u001b[0;34m\u001b[0m\u001b[0;34m\u001b[0m\u001b[0m\n",
      "\u001b[0;32m/opt/anaconda3/lib/python3.7/site-packages/selenium/webdriver/remote/webdriver.py\u001b[0m in \u001b[0;36mexecute\u001b[0;34m(self, driver_command, params)\u001b[0m\n\u001b[1;32m    319\u001b[0m         \u001b[0mresponse\u001b[0m \u001b[0;34m=\u001b[0m \u001b[0mself\u001b[0m\u001b[0;34m.\u001b[0m\u001b[0mcommand_executor\u001b[0m\u001b[0;34m.\u001b[0m\u001b[0mexecute\u001b[0m\u001b[0;34m(\u001b[0m\u001b[0mdriver_command\u001b[0m\u001b[0;34m,\u001b[0m \u001b[0mparams\u001b[0m\u001b[0;34m)\u001b[0m\u001b[0;34m\u001b[0m\u001b[0;34m\u001b[0m\u001b[0m\n\u001b[1;32m    320\u001b[0m         \u001b[0;32mif\u001b[0m \u001b[0mresponse\u001b[0m\u001b[0;34m:\u001b[0m\u001b[0;34m\u001b[0m\u001b[0;34m\u001b[0m\u001b[0m\n\u001b[0;32m--> 321\u001b[0;31m             \u001b[0mself\u001b[0m\u001b[0;34m.\u001b[0m\u001b[0merror_handler\u001b[0m\u001b[0;34m.\u001b[0m\u001b[0mcheck_response\u001b[0m\u001b[0;34m(\u001b[0m\u001b[0mresponse\u001b[0m\u001b[0;34m)\u001b[0m\u001b[0;34m\u001b[0m\u001b[0;34m\u001b[0m\u001b[0m\n\u001b[0m\u001b[1;32m    322\u001b[0m             response['value'] = self._unwrap_value(\n\u001b[1;32m    323\u001b[0m                 response.get('value', None))\n",
      "\u001b[0;32m/opt/anaconda3/lib/python3.7/site-packages/selenium/webdriver/remote/errorhandler.py\u001b[0m in \u001b[0;36mcheck_response\u001b[0;34m(self, response)\u001b[0m\n\u001b[1;32m    240\u001b[0m                 \u001b[0malert_text\u001b[0m \u001b[0;34m=\u001b[0m \u001b[0mvalue\u001b[0m\u001b[0;34m[\u001b[0m\u001b[0;34m'alert'\u001b[0m\u001b[0;34m]\u001b[0m\u001b[0;34m.\u001b[0m\u001b[0mget\u001b[0m\u001b[0;34m(\u001b[0m\u001b[0;34m'text'\u001b[0m\u001b[0;34m)\u001b[0m\u001b[0;34m\u001b[0m\u001b[0;34m\u001b[0m\u001b[0m\n\u001b[1;32m    241\u001b[0m             \u001b[0;32mraise\u001b[0m \u001b[0mexception_class\u001b[0m\u001b[0;34m(\u001b[0m\u001b[0mmessage\u001b[0m\u001b[0;34m,\u001b[0m \u001b[0mscreen\u001b[0m\u001b[0;34m,\u001b[0m \u001b[0mstacktrace\u001b[0m\u001b[0;34m,\u001b[0m \u001b[0malert_text\u001b[0m\u001b[0;34m)\u001b[0m\u001b[0;34m\u001b[0m\u001b[0;34m\u001b[0m\u001b[0m\n\u001b[0;32m--> 242\u001b[0;31m         \u001b[0;32mraise\u001b[0m \u001b[0mexception_class\u001b[0m\u001b[0;34m(\u001b[0m\u001b[0mmessage\u001b[0m\u001b[0;34m,\u001b[0m \u001b[0mscreen\u001b[0m\u001b[0;34m,\u001b[0m \u001b[0mstacktrace\u001b[0m\u001b[0;34m)\u001b[0m\u001b[0;34m\u001b[0m\u001b[0;34m\u001b[0m\u001b[0m\n\u001b[0m\u001b[1;32m    243\u001b[0m \u001b[0;34m\u001b[0m\u001b[0m\n\u001b[1;32m    244\u001b[0m     \u001b[0;32mdef\u001b[0m \u001b[0m_value_or_default\u001b[0m\u001b[0;34m(\u001b[0m\u001b[0mself\u001b[0m\u001b[0;34m,\u001b[0m \u001b[0mobj\u001b[0m\u001b[0;34m,\u001b[0m \u001b[0mkey\u001b[0m\u001b[0;34m,\u001b[0m \u001b[0mdefault\u001b[0m\u001b[0;34m)\u001b[0m\u001b[0;34m:\u001b[0m\u001b[0;34m\u001b[0m\u001b[0;34m\u001b[0m\u001b[0m\n",
      "\u001b[0;31mNoSuchElementException\u001b[0m: Message: no such element: Unable to locate element: {\"method\":\"xpath\",\"selector\":\"//*[@id=\"coronabox_6\"]/div[3]/ul/li[4]/a\"}\n  (Session info: headless chrome=86.0.4240.183)\n"
     ]
    }
   ],
   "source": [
    "driver.get(urls[10])\n",
    "time.sleep(0.2)\n",
    "\n",
    "driver.find_element_by_xpath('//*[@id=\"dgnss_info\"]').click()\n",
    "time.sleep(1)\n",
    "driver.find_element_by_xpath('//*[@id=\"patntWhthrc\"]').click()\n",
    "time.sleep(1)\n",
    "\n",
    "but1 = [2,3,4,5,6,7,8,9,10,11]\n",
    "but2 = [4,5,6,7,8,9,10,11,12,13] \n",
    "html10 = ''\n",
    "    \n",
    "m = 0\n",
    "\n",
    "while True:\n",
    "    time.sleep(0.2)\n",
    "    elem = driver.find_element_by_xpath('//*[@id=\"coronabox_6\"]/div[2]')\n",
    "    html10 += elem.get_attribute('outerHTML')\n",
    "    \n",
    "    if '31 접촉자, 신천지 관련' in html10:\n",
    "        break\n",
    "    \n",
    "    if m <= 9:\n",
    "        n = but1[m]\n",
    "        driver.find_element_by_xpath(f'//*[@id=\"coronabox_6\"]/div[3]/ul/li[{n}]/a').click()\n",
    "        m += 1\n",
    "    else:\n",
    "        n = but2[m%10]\n",
    "        driver.find_element_by_xpath(f'//*[@id=\"coronabox_6\"]/div[3]/ul/li[{n}]/a').click()\n",
    "        m += 1"
   ]
  },
  {
   "cell_type": "markdown",
   "metadata": {},
   "source": [
    "# 경기 의정부시 (1204)"
   ]
  },
  {
   "cell_type": "code",
   "execution_count": 60,
   "metadata": {},
   "outputs": [],
   "source": [
    "driver.get(urls[11])\n",
    "time.sleep(0.5)\n",
    "\n",
    "html11 = ''\n",
    "m = 1\n",
    "while True:    \n",
    "    \n",
    "    html11 += driver.find_element_by_xpath('//*[@id=\"route\"]').get_attribute('outerHTML')\n",
    "    if sum(['타지역 (포천시-5) 의정부시 이동경로' in x.text for x in driver.find_elements_by_css_selector('#coronaDataList > tr')]) > 0:\n",
    "        break\n",
    "    if m % 10 != 0:        \n",
    "        driver.find_element_by_css_selector(f'#pagination > a:nth-child({m%10 + 3})').click()\n",
    "        time.sleep(0.3)\n",
    "    else:\n",
    "        driver.find_element_by_css_selector('#pagination > a.arrow.next').click()\n",
    "        time.sleep(0.3)\n",
    "    \n",
    "    m += 1"
   ]
  },
  {
   "cell_type": "markdown",
   "metadata": {},
   "source": [
    "# 경기 화성시 (1210)"
   ]
  },
  {
   "cell_type": "code",
   "execution_count": 61,
   "metadata": {},
   "outputs": [
    {
     "ename": "StaleElementReferenceException",
     "evalue": "Message: stale element reference: element is not attached to the page document\n  (Session info: headless chrome=86.0.4240.183)\n",
     "output_type": "error",
     "traceback": [
      "\u001b[0;31m---------------------------------------------------------------------------\u001b[0m",
      "\u001b[0;31mStaleElementReferenceException\u001b[0m            Traceback (most recent call last)",
      "\u001b[0;32m<ipython-input-61-edcafbcd8cea>\u001b[0m in \u001b[0;36m<module>\u001b[0;34m\u001b[0m\n\u001b[1;32m     20\u001b[0m     \u001b[0;32melse\u001b[0m\u001b[0;34m:\u001b[0m\u001b[0;34m\u001b[0m\u001b[0;34m\u001b[0m\u001b[0m\n\u001b[1;32m     21\u001b[0m         \u001b[0mn\u001b[0m \u001b[0;34m=\u001b[0m \u001b[0mbut2\u001b[0m\u001b[0;34m[\u001b[0m\u001b[0mm\u001b[0m\u001b[0;34m%\u001b[0m\u001b[0;36m10\u001b[0m\u001b[0;34m]\u001b[0m\u001b[0;34m\u001b[0m\u001b[0;34m\u001b[0m\u001b[0m\n\u001b[0;32m---> 22\u001b[0;31m         \u001b[0mdriver\u001b[0m\u001b[0;34m.\u001b[0m\u001b[0mfind_element_by_xpath\u001b[0m\u001b[0;34m(\u001b[0m\u001b[0;34mf'//*[@id=\"board1098\"]/div/div/ul/li[{n}]/a'\u001b[0m\u001b[0;34m)\u001b[0m\u001b[0;34m.\u001b[0m\u001b[0mclick\u001b[0m\u001b[0;34m(\u001b[0m\u001b[0;34m)\u001b[0m\u001b[0;34m\u001b[0m\u001b[0;34m\u001b[0m\u001b[0m\n\u001b[0m\u001b[1;32m     23\u001b[0m         \u001b[0mm\u001b[0m \u001b[0;34m+=\u001b[0m \u001b[0;36m1\u001b[0m\u001b[0;34m\u001b[0m\u001b[0;34m\u001b[0m\u001b[0m\n\u001b[1;32m     24\u001b[0m \u001b[0;34m\u001b[0m\u001b[0m\n",
      "\u001b[0;32m/opt/anaconda3/lib/python3.7/site-packages/selenium/webdriver/remote/webelement.py\u001b[0m in \u001b[0;36mclick\u001b[0;34m(self)\u001b[0m\n\u001b[1;32m     78\u001b[0m     \u001b[0;32mdef\u001b[0m \u001b[0mclick\u001b[0m\u001b[0;34m(\u001b[0m\u001b[0mself\u001b[0m\u001b[0;34m)\u001b[0m\u001b[0;34m:\u001b[0m\u001b[0;34m\u001b[0m\u001b[0;34m\u001b[0m\u001b[0m\n\u001b[1;32m     79\u001b[0m         \u001b[0;34m\"\"\"Clicks the element.\"\"\"\u001b[0m\u001b[0;34m\u001b[0m\u001b[0;34m\u001b[0m\u001b[0m\n\u001b[0;32m---> 80\u001b[0;31m         \u001b[0mself\u001b[0m\u001b[0;34m.\u001b[0m\u001b[0m_execute\u001b[0m\u001b[0;34m(\u001b[0m\u001b[0mCommand\u001b[0m\u001b[0;34m.\u001b[0m\u001b[0mCLICK_ELEMENT\u001b[0m\u001b[0;34m)\u001b[0m\u001b[0;34m\u001b[0m\u001b[0;34m\u001b[0m\u001b[0m\n\u001b[0m\u001b[1;32m     81\u001b[0m \u001b[0;34m\u001b[0m\u001b[0m\n\u001b[1;32m     82\u001b[0m     \u001b[0;32mdef\u001b[0m \u001b[0msubmit\u001b[0m\u001b[0;34m(\u001b[0m\u001b[0mself\u001b[0m\u001b[0;34m)\u001b[0m\u001b[0;34m:\u001b[0m\u001b[0;34m\u001b[0m\u001b[0;34m\u001b[0m\u001b[0m\n",
      "\u001b[0;32m/opt/anaconda3/lib/python3.7/site-packages/selenium/webdriver/remote/webelement.py\u001b[0m in \u001b[0;36m_execute\u001b[0;34m(self, command, params)\u001b[0m\n\u001b[1;32m    631\u001b[0m             \u001b[0mparams\u001b[0m \u001b[0;34m=\u001b[0m \u001b[0;34m{\u001b[0m\u001b[0;34m}\u001b[0m\u001b[0;34m\u001b[0m\u001b[0;34m\u001b[0m\u001b[0m\n\u001b[1;32m    632\u001b[0m         \u001b[0mparams\u001b[0m\u001b[0;34m[\u001b[0m\u001b[0;34m'id'\u001b[0m\u001b[0;34m]\u001b[0m \u001b[0;34m=\u001b[0m \u001b[0mself\u001b[0m\u001b[0;34m.\u001b[0m\u001b[0m_id\u001b[0m\u001b[0;34m\u001b[0m\u001b[0;34m\u001b[0m\u001b[0m\n\u001b[0;32m--> 633\u001b[0;31m         \u001b[0;32mreturn\u001b[0m \u001b[0mself\u001b[0m\u001b[0;34m.\u001b[0m\u001b[0m_parent\u001b[0m\u001b[0;34m.\u001b[0m\u001b[0mexecute\u001b[0m\u001b[0;34m(\u001b[0m\u001b[0mcommand\u001b[0m\u001b[0;34m,\u001b[0m \u001b[0mparams\u001b[0m\u001b[0;34m)\u001b[0m\u001b[0;34m\u001b[0m\u001b[0;34m\u001b[0m\u001b[0m\n\u001b[0m\u001b[1;32m    634\u001b[0m \u001b[0;34m\u001b[0m\u001b[0m\n\u001b[1;32m    635\u001b[0m     \u001b[0;32mdef\u001b[0m \u001b[0mfind_element\u001b[0m\u001b[0;34m(\u001b[0m\u001b[0mself\u001b[0m\u001b[0;34m,\u001b[0m \u001b[0mby\u001b[0m\u001b[0;34m=\u001b[0m\u001b[0mBy\u001b[0m\u001b[0;34m.\u001b[0m\u001b[0mID\u001b[0m\u001b[0;34m,\u001b[0m \u001b[0mvalue\u001b[0m\u001b[0;34m=\u001b[0m\u001b[0;32mNone\u001b[0m\u001b[0;34m)\u001b[0m\u001b[0;34m:\u001b[0m\u001b[0;34m\u001b[0m\u001b[0;34m\u001b[0m\u001b[0m\n",
      "\u001b[0;32m/opt/anaconda3/lib/python3.7/site-packages/selenium/webdriver/remote/webdriver.py\u001b[0m in \u001b[0;36mexecute\u001b[0;34m(self, driver_command, params)\u001b[0m\n\u001b[1;32m    319\u001b[0m         \u001b[0mresponse\u001b[0m \u001b[0;34m=\u001b[0m \u001b[0mself\u001b[0m\u001b[0;34m.\u001b[0m\u001b[0mcommand_executor\u001b[0m\u001b[0;34m.\u001b[0m\u001b[0mexecute\u001b[0m\u001b[0;34m(\u001b[0m\u001b[0mdriver_command\u001b[0m\u001b[0;34m,\u001b[0m \u001b[0mparams\u001b[0m\u001b[0;34m)\u001b[0m\u001b[0;34m\u001b[0m\u001b[0;34m\u001b[0m\u001b[0m\n\u001b[1;32m    320\u001b[0m         \u001b[0;32mif\u001b[0m \u001b[0mresponse\u001b[0m\u001b[0;34m:\u001b[0m\u001b[0;34m\u001b[0m\u001b[0;34m\u001b[0m\u001b[0m\n\u001b[0;32m--> 321\u001b[0;31m             \u001b[0mself\u001b[0m\u001b[0;34m.\u001b[0m\u001b[0merror_handler\u001b[0m\u001b[0;34m.\u001b[0m\u001b[0mcheck_response\u001b[0m\u001b[0;34m(\u001b[0m\u001b[0mresponse\u001b[0m\u001b[0;34m)\u001b[0m\u001b[0;34m\u001b[0m\u001b[0;34m\u001b[0m\u001b[0m\n\u001b[0m\u001b[1;32m    322\u001b[0m             response['value'] = self._unwrap_value(\n\u001b[1;32m    323\u001b[0m                 response.get('value', None))\n",
      "\u001b[0;32m/opt/anaconda3/lib/python3.7/site-packages/selenium/webdriver/remote/errorhandler.py\u001b[0m in \u001b[0;36mcheck_response\u001b[0;34m(self, response)\u001b[0m\n\u001b[1;32m    240\u001b[0m                 \u001b[0malert_text\u001b[0m \u001b[0;34m=\u001b[0m \u001b[0mvalue\u001b[0m\u001b[0;34m[\u001b[0m\u001b[0;34m'alert'\u001b[0m\u001b[0;34m]\u001b[0m\u001b[0;34m.\u001b[0m\u001b[0mget\u001b[0m\u001b[0;34m(\u001b[0m\u001b[0;34m'text'\u001b[0m\u001b[0;34m)\u001b[0m\u001b[0;34m\u001b[0m\u001b[0;34m\u001b[0m\u001b[0m\n\u001b[1;32m    241\u001b[0m             \u001b[0;32mraise\u001b[0m \u001b[0mexception_class\u001b[0m\u001b[0;34m(\u001b[0m\u001b[0mmessage\u001b[0m\u001b[0;34m,\u001b[0m \u001b[0mscreen\u001b[0m\u001b[0;34m,\u001b[0m \u001b[0mstacktrace\u001b[0m\u001b[0;34m,\u001b[0m \u001b[0malert_text\u001b[0m\u001b[0;34m)\u001b[0m\u001b[0;34m\u001b[0m\u001b[0;34m\u001b[0m\u001b[0m\n\u001b[0;32m--> 242\u001b[0;31m         \u001b[0;32mraise\u001b[0m \u001b[0mexception_class\u001b[0m\u001b[0;34m(\u001b[0m\u001b[0mmessage\u001b[0m\u001b[0;34m,\u001b[0m \u001b[0mscreen\u001b[0m\u001b[0;34m,\u001b[0m \u001b[0mstacktrace\u001b[0m\u001b[0;34m)\u001b[0m\u001b[0;34m\u001b[0m\u001b[0;34m\u001b[0m\u001b[0m\n\u001b[0m\u001b[1;32m    243\u001b[0m \u001b[0;34m\u001b[0m\u001b[0m\n\u001b[1;32m    244\u001b[0m     \u001b[0;32mdef\u001b[0m \u001b[0m_value_or_default\u001b[0m\u001b[0;34m(\u001b[0m\u001b[0mself\u001b[0m\u001b[0;34m,\u001b[0m \u001b[0mobj\u001b[0m\u001b[0;34m,\u001b[0m \u001b[0mkey\u001b[0m\u001b[0;34m,\u001b[0m \u001b[0mdefault\u001b[0m\u001b[0;34m)\u001b[0m\u001b[0;34m:\u001b[0m\u001b[0;34m\u001b[0m\u001b[0;34m\u001b[0m\u001b[0m\n",
      "\u001b[0;31mStaleElementReferenceException\u001b[0m: Message: stale element reference: element is not attached to the page document\n  (Session info: headless chrome=86.0.4240.183)\n"
     ]
    }
   ],
   "source": [
    "driver.get(urls[12])\n",
    "time.sleep(0.2)\n",
    "\n",
    "but1 = [2,3,4,5,6,7,8,9,10,11]\n",
    "but2 = [4,5,6,7,8,9,10,11,12,13]\n",
    "\n",
    "html12 = ''\n",
    "\n",
    "m = 0\n",
    "while True:\n",
    "    time.sleep(0.5)\n",
    "    elem = driver.find_element_by_xpath('//*[@id=\"board1098\"]/table')\n",
    "    html12 += elem.get_attribute('outerHTML')\n",
    "    if '[2020.2.26. 22:10 기준]화성시 코로나19 발생경위' in html12:\n",
    "        break\n",
    "    if m <= 9:\n",
    "        n = but1[m]\n",
    "        driver.find_element_by_xpath(f'//*[@id=\"board1098\"]/div/div/ul/li[{n}]/a').click()\n",
    "        m += 1\n",
    "    else:\n",
    "        n = but2[m%10]\n",
    "        driver.find_element_by_xpath(f'//*[@id=\"board1098\"]/div/div/ul/li[{n}]/a').click()\n",
    "        m += 1\n",
    "        \n",
    "m = 0\n",
    "\n",
    "while True:\n",
    "    time.sleep(0.5)\n",
    "    elem = driver.find_element_by_xpath('//*[@id=\"board1099\"]/table')\n",
    "    html12 += elem.get_attribute('outerHTML')\n",
    "    \n",
    "    if '화성-1 / 남(30대, 반정동)' in html12:\n",
    "        break\n",
    "    \n",
    "    if m <= 9:\n",
    "        n = but1[m]\n",
    "        driver.find_element_by_xpath(f'//*[@id=\"board1099\"]/div/div/ul/li[{n}]/a').click()\n",
    "        m += 1\n",
    "    else:\n",
    "        n = but2[m%10]\n",
    "        driver.find_element_by_xpath(f'//*[@id=\"board1099\"]/div/div/ul/li[{n}]/a').click()\n",
    "        m += 1"
   ]
  },
  {
   "cell_type": "markdown",
   "metadata": {},
   "source": [
    "# 세종시 (1229)"
   ]
  },
  {
   "cell_type": "code",
   "execution_count": 62,
   "metadata": {},
   "outputs": [],
   "source": [
    "driver.get(urls[13])\n",
    "time.sleep(0.2)\n",
    "html13 = ''\n",
    "\n",
    "elems = driver.find_elements_by_xpath('//*[@id=\"txt\"]/div/div[3]/div[1]/div/ul/li/a')\n",
    "\n",
    "for n in range(len(elems)):\n",
    "    try:\n",
    "        time.sleep(0.5)\n",
    "        html13 += driver.find_element_by_xpath('//*[@id=\"txt\"]/div/div[2]').get_attribute('outerHTML')\n",
    "        driver.find_element_by_xpath(f'//*[@id=\"txt\"]/div/div[3]/div[1]/div/ul/li[{n+2}]/a').click()\n",
    "    except:\n",
    "        continue"
   ]
  },
  {
   "cell_type": "code",
   "execution_count": 63,
   "metadata": {},
   "outputs": [],
   "source": [
    "df = pd.DataFrame({\n",
    "    'num': nums,\n",
    "    'url': urls\n",
    "})\n",
    "\n",
    "df['html'] = ''"
   ]
  },
  {
   "cell_type": "code",
   "execution_count": 64,
   "metadata": {},
   "outputs": [],
   "source": [
    "df.iloc[:,2] = [html0, html1, html2, html3, html4, html5, html6, html7, html8, html9, html10, html11, html12, html13]"
   ]
  },
  {
   "cell_type": "code",
   "execution_count": 65,
   "metadata": {},
   "outputs": [],
   "source": [
    "df['date'] = today\n",
    "df.to_csv(PATH_DATA / (today + '_type2.csv'), index = False)"
   ]
  },
  {
   "cell_type": "code",
   "execution_count": 66,
   "metadata": {},
   "outputs": [],
   "source": [
    "driver.quit()"
   ]
  },
  {
   "cell_type": "code",
   "execution_count": null,
   "metadata": {},
   "outputs": [],
   "source": []
  },
  {
   "cell_type": "code",
   "execution_count": null,
   "metadata": {},
   "outputs": [],
   "source": []
  }
 ],
 "metadata": {
  "kernelspec": {
   "display_name": "Python 3",
   "language": "python",
   "name": "python3"
  },
  "language_info": {
   "codemirror_mode": {
    "name": "ipython",
    "version": 3
   },
   "file_extension": ".py",
   "mimetype": "text/x-python",
   "name": "python",
   "nbconvert_exporter": "python",
   "pygments_lexer": "ipython3",
   "version": "3.7.6"
  }
 },
 "nbformat": 4,
 "nbformat_minor": 4
}
