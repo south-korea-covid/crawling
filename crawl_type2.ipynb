{
 "cells": [
  {
   "cell_type": "markdown",
   "metadata": {},
   "source": [
    "# type 2: 버튼 눌러서 하는 애들"
   ]
  },
  {
   "cell_type": "code",
   "execution_count": 32,
   "metadata": {},
   "outputs": [],
   "source": [
    "import datetime as dt\n",
    "import numpy as np\n",
    "import pandas as pd\n",
    "from pathlib import Path\n",
    "import time\n",
    "from tqdm import tqdm\n",
    "from selenium import webdriver"
   ]
  },
  {
   "cell_type": "code",
   "execution_count": 33,
   "metadata": {},
   "outputs": [],
   "source": [
    "today = str(dt.datetime.today().date()).replace('-','')[2:]\n",
    "PATH_DATA = Path.cwd().parent / 'data' / 'raw_tables' / today\n",
    "\n",
    "chromedriver = '/Users/junseoklee/Applications/chromedriver'\n",
    "options = webdriver.ChromeOptions()\n",
    "options.add_argument('headless')\n",
    "driver = webdriver.Chrome(chromedriver, options = options) \n",
    "driver.set_window_size(1600,2000)"
   ]
  },
  {
   "cell_type": "code",
   "execution_count": 34,
   "metadata": {},
   "outputs": [],
   "source": [
    "nums = [1088,\n",
    "1134,\n",
    "1044,\n",
    "1069,\n",
    "1131,\n",
    "1140,\n",
    "1186,\n",
    "1191,\n",
    "1192,\n",
    "1194,\n",
    "1202,\n",
    "1204,\n",
    "1210]"
   ]
  },
  {
   "cell_type": "code",
   "execution_count": 35,
   "metadata": {},
   "outputs": [],
   "source": [
    "urls = ['https://www.nowon.kr/corona19/index.do',\n",
    "'https://www.gwangju.go.kr/c19/c19/contentsView.do?pageId=coronagj2',\n",
    "'https://www.goheung.go.kr/health/boardList.do?boardId=BD_00104&pageId=health60',\n",
    "'http://michu.incheon.kr/corona/',\n",
    "'https://www.dgs.go.kr/COVID/covid19_course.html?',\n",
    "'http://www.gyeongju.go.kr/design/ko2019/popup/covid/covid19.html#',\n",
    "'http://www.gunpo.go.kr/www/contents.do?key=1006530',\n",
    "'http://corona.seongnam.go.kr/',\n",
    "'https://www.suwon.go.kr/web/safesuwon/corona/PD_index.do',\n",
    "'https://www.ansan.go.kr/DATA/preview/corona/coronaPage.html',\n",
    "'https://www.yongin.go.kr/health/ictsd/index.do',\n",
    "'https://www.ui4u.go.kr/corona_index.jsp',\n",
    "'http://www.hscity.go.kr/www/corona/corona.do']"
   ]
  },
  {
   "cell_type": "markdown",
   "metadata": {},
   "source": [
    "# 서울 노원구 (1088)"
   ]
  },
  {
   "cell_type": "code",
   "execution_count": 36,
   "metadata": {},
   "outputs": [],
   "source": [
    "driver.get(urls[0])\n",
    "html0 = ''\n",
    "but1 = [1,2,3,4,5,6,7,8,9,10]\n",
    "but2 = [3,4,5,6,7,8,9,10,11,12]\n",
    "\n",
    "m = 0\n",
    "try:\n",
    "    \n",
    "    while True:\n",
    "        time.sleep(0.2)\n",
    "        elem = driver.find_element_by_xpath('//*[@id=\"covid_tab_cont\"]/div/div[1]')\n",
    "        html0 += elem.get_attribute('outerHTML')\n",
    "        if m <= 9:\n",
    "            n = but1[m]\n",
    "            driver.find_element_by_xpath(f'//*[@id=\"page-div\"]/a[{n}]').click()\n",
    "            m += 1\n",
    "        else:\n",
    "            n = but2[m%10]\n",
    "            driver.find_element_by_xpath(f'//*[@id=\"page-div\"]/a[{n}]').click()\n",
    "            m += 1\n",
    "except:\n",
    "    pass"
   ]
  },
  {
   "cell_type": "markdown",
   "metadata": {},
   "source": [
    "# 광주광역시 (1134 - 1138, 통합 관리)"
   ]
  },
  {
   "cell_type": "code",
   "execution_count": 37,
   "metadata": {},
   "outputs": [],
   "source": [
    "driver.get(urls[1])\n",
    "time.sleep(0.2)\n",
    "buts = driver.find_elements_by_css_selector('#co_table > tr.line_bg')\n",
    "for but in buts[2:]:\n",
    "    but.click()\n",
    "    time.sleep(0.2)\n",
    "html1 = driver.page_source"
   ]
  },
  {
   "cell_type": "markdown",
   "metadata": {},
   "source": [
    "# 전남 고흥군 (1044)"
   ]
  },
  {
   "cell_type": "code",
   "execution_count": 38,
   "metadata": {},
   "outputs": [],
   "source": [
    "driver.get(urls[2])\n",
    "time.sleep(0.2)\n",
    "driver.find_element_by_xpath('//*[@id=\"aside\"]/ul/li[1]/ul/li[2]').click()\n",
    "html2 = ''\n",
    "elems = driver.find_elements_by_css_selector('#content_area > div.tab_select > ul > li')\n",
    "for n in range(len(elems)):\n",
    "    time.sleep(0.2)\n",
    "    html2 += driver.find_element_by_xpath('//*[@id=\"font-area\"]').get_attribute('outerHTML')\n",
    "    new_elems = driver.find_elements_by_css_selector('#content_area > div.tab_select > ul > li')\n",
    "    if n != len(elems)-1:\n",
    "        new_elems[n+1].click()"
   ]
  },
  {
   "cell_type": "markdown",
   "metadata": {},
   "source": [
    "# 인천 미추홀구 (1069) : 시간이 좀 지나고 에러가 나야 정상"
   ]
  },
  {
   "cell_type": "code",
   "execution_count": 39,
   "metadata": {},
   "outputs": [],
   "source": [
    "driver.get(urls[3])\n",
    "time.sleep(0.2)\n",
    "driver.find_element_by_xpath('//*[@id=\"corona_bbs_197\"]/a').click()\n",
    "\n",
    "html3 = ''\n",
    "but1 = [2,3,4,5,6,7,8,9,10,11]\n",
    "but2 = [4,5,6,7,8,9,10,11,12,13]\n",
    "\n",
    "m = 0\n",
    "try:\n",
    "    while True:\n",
    "        time.sleep(0.2)\n",
    "        elem = driver.find_element_by_xpath('//*[@id=\"bbs_list\"]')\n",
    "        html3 += elem.get_attribute('outerHTML')\n",
    "        if m <= 9:\n",
    "            n = but1[m]\n",
    "            driver.find_element_by_xpath(f'//*[@id=\"bbs_list\"]/div/a[{n}]').click()\n",
    "            m += 1\n",
    "        else:\n",
    "            n = but2[m%10]\n",
    "            driver.find_element_by_xpath(f'//*[@id=\"bbs_list\"]/div/a[{n}]').click()\n",
    "            m += 1\n",
    "except:\n",
    "    pass"
   ]
  },
  {
   "cell_type": "markdown",
   "metadata": {},
   "source": [
    "# 대구 서구 (1131)"
   ]
  },
  {
   "cell_type": "code",
   "execution_count": 40,
   "metadata": {},
   "outputs": [],
   "source": [
    "driver.get(urls[4])\n",
    "time.sleep(0.2)\n",
    "buttons = driver.find_elements_by_xpath('//*[@id=\"content\"]/div/div[3]/a')\n",
    "\n",
    "html4 = ''\n",
    "for n in range(1,len(buttons)+1):\n",
    "    driver.get(urls[4] + f'&page={n}')\n",
    "    time.sleep(0.2)\n",
    "    html4 += driver.find_element_by_xpath('//*[@id=\"tab_con01\"]/div').get_attribute('outerHTML')"
   ]
  },
  {
   "cell_type": "markdown",
   "metadata": {},
   "source": [
    "# 경북 경주시 (1140)"
   ]
  },
  {
   "cell_type": "code",
   "execution_count": 41,
   "metadata": {},
   "outputs": [],
   "source": [
    "driver.get(urls[5])\n",
    "time.sleep(0.2)\n",
    "driver.find_element_by_xpath('//*[@id=\"covid19\"]/div[1]/div[2]/ul/li[3]/a').click()\n",
    "time.sleep(0.2)\n",
    "\n",
    "iframe = driver.find_element_by_xpath('//*[@id=\"iPage\"]/div[3]/iframe')\n",
    "driver.switch_to.frame(iframe)\n",
    "html5 = driver.page_source"
   ]
  },
  {
   "cell_type": "markdown",
   "metadata": {},
   "source": [
    "# 경기 군포군 (1186)"
   ]
  },
  {
   "cell_type": "code",
   "execution_count": 42,
   "metadata": {},
   "outputs": [],
   "source": [
    "driver.get(urls[6])\n",
    "time.sleep(0.2)\n",
    "driver.find_element_by_xpath('//*[@id=\"side\"]/nav/ul/li[4]/ul/li[2]').click()\n",
    "time.sleep(0.2)\n",
    "elems = driver.find_elements_by_xpath('//*[@id=\"colgroup\"]/article/header/div[4]/ul/li')\n",
    "hrefs = [e.find_element_by_css_selector('a').get_attribute('href') for e in elems]\n",
    "html6 = ''\n",
    "for href in hrefs:\n",
    "    driver.get(href)\n",
    "    time.sleep(0.2)\n",
    "    html6 += driver.find_element_by_xpath('//*[@id=\"contents\"]/div[1]').get_attribute('outerHTML')"
   ]
  },
  {
   "cell_type": "markdown",
   "metadata": {},
   "source": [
    "# 경기 성남시 (1191)"
   ]
  },
  {
   "cell_type": "code",
   "execution_count": 43,
   "metadata": {},
   "outputs": [],
   "source": [
    "driver.get(urls[7])\n",
    "time.sleep(0.2)\n",
    "driver.find_element_by_xpath('//*[@id=\"listForm\"]/div/div/ul/li[2]/a').click()\n",
    "time.sleep(0.2)\n",
    "html7 = ''\n",
    "\n",
    "but1 = [1,3,4,5,6,7,8,9,10,11]\n",
    "but2 = [3,4,5,6,7,8,9,10,11,12]\n",
    "\n",
    "m = 0\n",
    "try:\n",
    "    while True:\n",
    "        time.sleep(0.2)\n",
    "        elem = driver.find_element_by_xpath('//*[@id=\"moveTbl\"]')\n",
    "        html7 += elem.get_attribute('outerHTML')\n",
    "        if m <= 9:\n",
    "            n = but1[m]\n",
    "            driver.find_element_by_xpath(f'//*[@id=\"board_group1\"]/div[3]/p/a[{n}]').click()\n",
    "            m += 1\n",
    "        else:\n",
    "            n = but2[m%10]\n",
    "            driver.find_element_by_xpath(f'//*[@id=\"board_group1\"]/div[3]/p/a[{n}]').click()\n",
    "            m += 1\n",
    "except:\n",
    "    pass"
   ]
  },
  {
   "cell_type": "markdown",
   "metadata": {},
   "source": [
    "# 경기 수원시 (1192)"
   ]
  },
  {
   "cell_type": "code",
   "execution_count": 44,
   "metadata": {},
   "outputs": [],
   "source": [
    "driver.get(urls[8])\n",
    "time.sleep(0.2)\n",
    "driver.find_element_by_xpath('/html/body/div[1]/div/ul/li[3]/div/div/div[1]/a[2]').click()\n",
    "time.sleep(0.2)\n",
    "html8 = ''\n",
    "\n",
    "but1 = [2,5,6,7,8]\n",
    "but2 = [4,5,6,7,8]\n",
    "\n",
    "m = 0\n",
    "try:\n",
    "    \n",
    "    while True:\n",
    "        time.sleep(0.2)\n",
    "        elem = driver.find_element_by_xpath('//*[@id=\"confirmListDiv\"]')\n",
    "        html8 += elem.get_attribute('outerHTML')\n",
    "        if m <= 4:\n",
    "            n = but1[m]\n",
    "            driver.find_element_by_xpath(f'//*[@id=\"confirmPageNumDiv\"]/div/a[{n}]').click()\n",
    "            m += 1\n",
    "        else:\n",
    "            n = but2[m%5]\n",
    "            driver.find_element_by_xpath(f'//*[@id=\"confirmPageNumDiv\"]/div/a[{n}]').click()\n",
    "            m += 1\n",
    "except:\n",
    "    pass"
   ]
  },
  {
   "cell_type": "markdown",
   "metadata": {},
   "source": [
    "# 경기 안산시 (1194)"
   ]
  },
  {
   "cell_type": "code",
   "execution_count": 45,
   "metadata": {},
   "outputs": [],
   "source": [
    "driver.get(urls[9])\n",
    "time.sleep(0.2)\n",
    "\n",
    "but = [1,2,3,4]\n",
    "html9 = ''\n",
    "m = 0\n",
    "try:\n",
    "    while True:\n",
    "        time.sleep(0.2)\n",
    "        elem = driver.find_element_by_xpath('//*[@id=\"corona_popup_list_1\"]')\n",
    "        html9 += elem.get_attribute('outerHTML')\n",
    "        if m % 5 != 4:\n",
    "            n = but[m%5]\n",
    "            driver.find_element_by_xpath(f'//*[@id=\"p_pagination\"]/span[2]/a[{n}]').click()\n",
    "            m += 1\n",
    "        else:\n",
    "            driver.find_element_by_xpath(f'//*[@id=\"p_pagination\"]/span[3]/a[1]').click()\n",
    "            m += 1\n",
    "except:\n",
    "    pass"
   ]
  },
  {
   "cell_type": "markdown",
   "metadata": {},
   "source": [
    "# 경기 용인시 (1202)"
   ]
  },
  {
   "cell_type": "code",
   "execution_count": 46,
   "metadata": {},
   "outputs": [],
   "source": [
    "driver.get(urls[10])\n",
    "time.sleep(0.2)\n",
    "\n",
    "driver.find_element_by_xpath('//*[@id=\"dgnss_info\"]').click()\n",
    "time.sleep(0.5)\n",
    "driver.find_element_by_xpath('//*[@id=\"patntWhthrc\"]').click()\n",
    "time.sleep(0.2)\n",
    "\n",
    "but1 = [2,3,4,5,6,7,8,9,10,11]\n",
    "but2 = [4,5,6,7,8,9,10,11,12,13] \n",
    "html10 = ''\n",
    "    \n",
    "m = 0\n",
    "try:\n",
    "    while True:\n",
    "        time.sleep(0.2)\n",
    "        elem = driver.find_element_by_xpath('//*[@id=\"coronabox_6\"]/div[2]')\n",
    "        html10 += elem.get_attribute('outerHTML')\n",
    "        if m <= 9:\n",
    "            n = but1[m]\n",
    "            driver.find_element_by_xpath(f'//*[@id=\"coronabox_6\"]/div[3]/ul/li[{n}]/a').click()\n",
    "            m += 1\n",
    "        else:\n",
    "            n = but2[m%10]\n",
    "            driver.find_element_by_xpath(f'//*[@id=\"coronabox_6\"]/div[3]/ul/li[{n}]/a').click()\n",
    "            m += 1\n",
    "except:\n",
    "    pass"
   ]
  },
  {
   "cell_type": "markdown",
   "metadata": {},
   "source": [
    "# 경기 의정부시 (1204), 여기 빨리 고쳐야 함."
   ]
  },
  {
   "cell_type": "code",
   "execution_count": 47,
   "metadata": {},
   "outputs": [],
   "source": [
    "driver.get(urls[11])\n",
    "time.sleep(0.5)\n",
    "\n",
    "html11 = ''\n",
    "m = 1\n",
    "while True:    \n",
    "    html11 += driver.find_element_by_xpath('//*[@id=\"route\"]').get_attribute('outerHTML')\n",
    "    if sum(['타지역 (포천시-5) 의정부시 이동경로' in x.text for x in driver.find_elements_by_css_selector('#coronaDataList > tr')]) > 0:\n",
    "        break\n",
    "    if m % 10 != 0:        \n",
    "        driver.find_element_by_css_selector(f'#pagination > a:nth-child({m%10 + 3})').click()\n",
    "        time.sleep(0.3)\n",
    "    else:\n",
    "        driver.find_element_by_css_selector('#pagination > a.arrow.next').click()\n",
    "        time.sleep(0.3)\n",
    "    \n",
    "    m += 1"
   ]
  },
  {
   "cell_type": "markdown",
   "metadata": {},
   "source": [
    "# 경기 화성시 (1210)"
   ]
  },
  {
   "cell_type": "code",
   "execution_count": 48,
   "metadata": {},
   "outputs": [],
   "source": [
    "driver.get(urls[12])\n",
    "time.sleep(0.2)\n",
    "\n",
    "but1 = [2,3,4,5,6,7,8,9,10,11]\n",
    "but2 = [4,5,6,7,8,9,10,11,12,13]\n",
    "\n",
    "html12 = ''\n",
    "try:\n",
    "    m = 0\n",
    "    while True:\n",
    "        time.sleep(0.2)\n",
    "        elem = driver.find_element_by_xpath('//*[@id=\"board1098\"]/table')\n",
    "        html12 += elem.get_attribute('outerHTML')\n",
    "        if m <= 9:\n",
    "            n = but1[m]\n",
    "            driver.find_element_by_xpath(f'//*[@id=\"board1098\"]/div/div/ul/li[{n}]/a').click()\n",
    "            m += 1\n",
    "        else:\n",
    "            n = but2[m%10]\n",
    "            driver.find_element_by_xpath(f'//*[@id=\"board1098\"]/div/div/ul/li[{n}]/a').click()\n",
    "            m += 1\n",
    "except:\n",
    "    pass\n",
    "        \n",
    "m = 0\n",
    "try:\n",
    "    while True:\n",
    "        time.sleep(0.2)\n",
    "        elem = driver.find_element_by_xpath('//*[@id=\"board1099\"]/table')\n",
    "        html12 += elem.get_attribute('outerHTML')\n",
    "        if m <= 9:\n",
    "            n = but1[m]\n",
    "            driver.find_element_by_xpath(f'//*[@id=\"board1099\"]/div/div/ul/li[{n}]/a').click()\n",
    "            m += 1\n",
    "        else:\n",
    "            n = but2[m%10]\n",
    "            driver.find_element_by_xpath(f'//*[@id=\"board1099\"]/div/div/ul/li[{n}]/a').click()\n",
    "            m += 1\n",
    "except:\n",
    "    pass"
   ]
  },
  {
   "cell_type": "code",
   "execution_count": 49,
   "metadata": {},
   "outputs": [],
   "source": [
    "df = pd.DataFrame({\n",
    "    'num': nums,\n",
    "    'url': urls\n",
    "})\n",
    "\n",
    "df['html'] = ''"
   ]
  },
  {
   "cell_type": "code",
   "execution_count": 50,
   "metadata": {},
   "outputs": [],
   "source": [
    "df.iloc[:,2] = [html0, html1, html2, html3, html4, html5, html6, html7, html8, html9, html10, html11, html12]"
   ]
  },
  {
   "cell_type": "code",
   "execution_count": 51,
   "metadata": {},
   "outputs": [],
   "source": [
    "df['date'] = today\n",
    "df.to_csv(PATH_DATA / (today + '_type2.csv'), index = False)"
   ]
  },
  {
   "cell_type": "code",
   "execution_count": 52,
   "metadata": {},
   "outputs": [],
   "source": [
    "driver.quit()"
   ]
  },
  {
   "cell_type": "code",
   "execution_count": null,
   "metadata": {},
   "outputs": [],
   "source": []
  }
 ],
 "metadata": {
  "kernelspec": {
   "display_name": "Python 3",
   "language": "python",
   "name": "python3"
  },
  "language_info": {
   "codemirror_mode": {
    "name": "ipython",
    "version": 3
   },
   "file_extension": ".py",
   "mimetype": "text/x-python",
   "name": "python",
   "nbconvert_exporter": "python",
   "pygments_lexer": "ipython3",
   "version": "3.7.6"
  }
 },
 "nbformat": 4,
 "nbformat_minor": 4
}
