{
 "cells": [
  {
   "cell_type": "code",
   "execution_count": 29,
   "metadata": {},
   "outputs": [],
   "source": [
    "import datetime as dt\n",
    "import numpy as np\n",
    "import pandas as pd\n",
    "from pathlib import Path\n",
    "import time\n",
    "from tqdm import tqdm\n",
    "from selenium import webdriver"
   ]
  },
  {
   "cell_type": "code",
   "execution_count": 30,
   "metadata": {},
   "outputs": [],
   "source": [
    "today = str(dt.datetime.today().date()).replace('-','')[2:]\n",
    "PATH_DATA = Path.cwd().parent / 'data' / 'raw_tables' / today\n",
    "\n",
    "chromedriver = '/Users/junseoklee/Applications/chromedriver'\n",
    "options = webdriver.ChromeOptions()\n",
    "options.add_argument('headless')\n",
    "driver = webdriver.Chrome(chromedriver, options = options) \n",
    "driver.set_window_size(1600,2000)"
   ]
  },
  {
   "cell_type": "code",
   "execution_count": 31,
   "metadata": {},
   "outputs": [],
   "source": [
    "nums = [\n",
    "1049,\n",
    "1051,\n",
    "1056,\n",
    "1060,\n",
    "1063,\n",
    "1064,\n",
    "1084,\n",
    "1090,\n",
    "1098,\n",
    "1099,\n",
    "1104,\n",
    "1147,\n",
    "1157,\n",
    "1162,\n",
    "1196,\n",
    "1203,\n",
    "1209,\n",
    "1212,\n",
    "1218,\n",
    "1083\n",
    "]"
   ]
  },
  {
   "cell_type": "code",
   "execution_count": 32,
   "metadata": {},
   "outputs": [],
   "source": [
    "urls = [\n",
    "'http://www.damyang.go.kr/health/board/list.damyang?boardId=BBS_0000262&menuCd=DOM_000000505004008000&contentsSid=2237&cpath=%2Fhealth',\n",
    "'http://www.muan.go.kr/www/openmuan/COVID19/course',\n",
    "'https://www.yeonggwang.go.kr/bbs/?b_id=corona_move&site=hospital&mn=8245',\n",
    "'http://www.jangheung.go.kr/www/life_welfare/public_security_action/covid19',\n",
    "'http://www.haenam.go.kr/planweb/board/list.9is?contentUid=18e3368f73be0d960174329a696b41a7&boardUid=18e3368f73be0d960174329977374199&contentUid=18e3368f73be0d960174329a696b41a7',\n",
    "'https://www.hwasun.go.kr/board.do?S=S01&M=031501000000&b_code=0000000269',\n",
    "'http://www.gwanak.go.kr/site/health/ex/bbs/List.do?cbIdx=587',\n",
    "'https://www.ddm.go.kr/life/flowList.jsp',\n",
    "'http://www.yangcheon.go.kr/site/yangcheon/ex/bbs/List.do?cbIdx=1021',\n",
    "'https://www.ydp.go.kr/health/selectBbsNttList.do?bbsNo=467&key=5139&',\n",
    "'https://www.jungnang.go.kr/portal/bbs/list/B0000458.do?menuNo=201212',\n",
    "'https://www.sangju.go.kr/tabBoard/view.tc?mn=4242&tabBoardSeq=87&pageSeq=3015&type=B&tabOrder=1',\n",
    "'https://www.usc.go.kr/tabBoard/view.tc?mn=2510&tabBoardSeq=51&pageSeq=1700&type=B&tabOrder=1',\n",
    "'https://www.geoje.go.kr/board/list.geoje?boardId=BBS_0000615&menuCd=DOM_000008906015003000&contentsSid=12185&cpath=',\n",
    "'https://www.anyang.go.kr/main/selectBbsNttList.do?bbsNo=631&key=3136',\n",
    "'https://www.uiwang.go.kr/UWKORINFO1703',\n",
    "'https://www.hanam.go.kr/health/coronaCntrplnDetailWebList.do?key=4960&detailType=4&pageIndex=1',\n",
    "'https://www.gwgs.go.kr/prog/bbsArticle/BBSMSTR_000000003621/list.do',\n",
    "'https://www.yw.go.kr/www/selectBbsNttList.do?bbsNo=154&key=1280',\n",
    "'https://www.gangseo.seoul.kr/new_portal/living/safe/page06_02.jsp?board_id=640'\n",
    "]"
   ]
  },
  {
   "cell_type": "markdown",
   "metadata": {},
   "source": [
    "# 전남 담양 (1049)"
   ]
  },
  {
   "cell_type": "code",
   "execution_count": 33,
   "metadata": {},
   "outputs": [],
   "source": [
    "driver.get(urls[0])\n",
    "time.sleep(0.2)\n",
    "\n",
    "elems = driver.find_elements_by_css_selector('#content > div.bbs_list02 > table > tbody > tr > td.DATA_TITLE')\n",
    "hrefs = [e.find_element_by_css_selector('a').get_attribute('href') for e in elems]\n",
    "\n",
    "html0 = ''\n",
    "for href in hrefs:\n",
    "    driver.get(href)\n",
    "    time.sleep(0.2)\n",
    "    html0 += driver.find_element_by_xpath('//*[@id=\"content\"]/div[2]/table').get_attribute('outerHTML')"
   ]
  },
  {
   "cell_type": "markdown",
   "metadata": {},
   "source": [
    "# 전남 무안 (1051)"
   ]
  },
  {
   "cell_type": "code",
   "execution_count": 34,
   "metadata": {},
   "outputs": [],
   "source": [
    "driver.get(urls[1])\n",
    "time.sleep(0.2)\n",
    "\n",
    "elems = driver.find_elements_by_css_selector('#content > div > table > tbody > tr ')\n",
    "hrefs = [e.find_element_by_css_selector('td > a').get_attribute('href') for e in elems]\n",
    "html1 = ''\n",
    "\n",
    "for href in hrefs:\n",
    "    driver.get(href)\n",
    "    time.sleep(0.2)\n",
    "    html1 += driver.find_element_by_xpath('//*[@id=\"content\"]').get_attribute('outerHTML')"
   ]
  },
  {
   "cell_type": "markdown",
   "metadata": {},
   "source": [
    "# 전남 영광 (1056)"
   ]
  },
  {
   "cell_type": "code",
   "execution_count": 35,
   "metadata": {},
   "outputs": [],
   "source": [
    "driver.get(urls[2])\n",
    "time.sleep(0.2)\n",
    "elems = driver.find_elements_by_xpath('//*[@id=\"board_list\"]/table/tbody/tr')\n",
    "hrefs = [e.find_element_by_css_selector('td > a').get_attribute('href') for e in elems]\n",
    "html2 = ''\n",
    "\n",
    "for href in hrefs:\n",
    "    driver.get(href)\n",
    "    time.sleep(0.2)\n",
    "    html2 += driver.find_element_by_xpath('//*[@id=\"container\"]/div[3]').get_attribute('outerHTML')"
   ]
  },
  {
   "cell_type": "markdown",
   "metadata": {},
   "source": [
    "# 전남 장흥군 (1060)"
   ]
  },
  {
   "cell_type": "code",
   "execution_count": 36,
   "metadata": {},
   "outputs": [],
   "source": [
    "driver.get(urls[3])\n",
    "time.sleep(0.2)\n",
    "\n",
    "elems = driver.find_elements_by_xpath('//*[@id=\"content\"]/div/table/tbody/tr')\n",
    "hrefs = [e.find_element_by_css_selector('td > a').get_attribute('href') for e in elems]\n",
    "html3 = ''\n",
    "\n",
    "for href in hrefs:\n",
    "    driver.get(href)\n",
    "    time.sleep(0.2)\n",
    "    html3 += driver.find_element_by_xpath('//*[@id=\"board_basic_view\"]').get_attribute('outerHTML')"
   ]
  },
  {
   "cell_type": "markdown",
   "metadata": {},
   "source": [
    "# 전남 해남군 (1063)"
   ]
  },
  {
   "cell_type": "code",
   "execution_count": 37,
   "metadata": {},
   "outputs": [],
   "source": [
    "html4 = ''\n",
    "driver.get(urls[4])\n",
    "time.sleep(0.2)\n",
    "driver.find_element_by_xpath('//*[@id=\"tabUl1\"]/a').click()\n",
    "time.sleep(0.2)\n",
    "\n",
    "elems = driver.find_elements_by_xpath('//*[@id=\"content\"]/table/tbody/tr')\n",
    "hrefs = [e.find_element_by_css_selector('td > a').get_attribute('href') for e in elems]\n",
    "\n",
    "\n",
    "for href in hrefs:\n",
    "    driver.get(href)\n",
    "    time.sleep(0.2)\n",
    "    html4 += driver.find_element_by_xpath('//*[@id=\"content\"]/div[1]/div[1]').get_attribute('outerHTML')"
   ]
  },
  {
   "cell_type": "markdown",
   "metadata": {},
   "source": [
    "# 전남 화순군 (1064)"
   ]
  },
  {
   "cell_type": "code",
   "execution_count": 38,
   "metadata": {},
   "outputs": [],
   "source": [
    "driver.get(urls[5])\n",
    "time.sleep(0.2)\n",
    "\n",
    "elems = driver.find_elements_by_xpath('//*[@id=\"printPage\"]/div[2]/form/div/table/tbody/tr')\n",
    "hrefs = [e.find_element_by_css_selector('td > a').get_attribute('href') for e in elems]\n",
    "html5 = ''\n",
    "\n",
    "for href in hrefs:\n",
    "    driver.get(href)\n",
    "    time.sleep(0.2)\n",
    "    html5 += driver.find_element_by_xpath('//*[@id=\"printPage\"]/div[2]/div[2]/ul/li[2]').get_attribute('outerHTML')"
   ]
  },
  {
   "cell_type": "markdown",
   "metadata": {},
   "source": [
    "# 서울 관악구 (1084)"
   ]
  },
  {
   "cell_type": "code",
   "execution_count": 39,
   "metadata": {},
   "outputs": [],
   "source": [
    "driver.get(urls[6])\n",
    "time.sleep(0.2)\n",
    "html6 = '' \n",
    "\n",
    "buttons = driver.find_elements_by_css_selector('#boardDivId > div > a')\n",
    "for n in range(len(buttons)+1):\n",
    "    m = 0\n",
    "    elems = driver.find_elements_by_xpath('//*[@id=\"boardDivId\"]/table/tbody/tr')\n",
    "    for i in range(len(elems)):\n",
    "        elems2 = driver.find_elements_by_xpath('//*[@id=\"boardDivId\"]/table/tbody/tr')\n",
    "        elems2[i].click()\n",
    "        time.sleep(0.2)\n",
    "        html6 += driver.find_element_by_xpath('//*[@id=\"contents\"]/div/table/tbody/tr[4]/td/div').get_attribute('outerHTML')\n",
    "        driver.back()\n",
    "        time.sleep(0.2)\n",
    "    if n != len(buttons):\n",
    "        buttons2 = driver.find_elements_by_css_selector('#boardDivId > div > a')\n",
    "        buttons2[n].click()"
   ]
  },
  {
   "cell_type": "markdown",
   "metadata": {},
   "source": [
    "# 서울 동대문구 (1090)"
   ]
  },
  {
   "cell_type": "code",
   "execution_count": 40,
   "metadata": {},
   "outputs": [],
   "source": [
    "html7 = ''\n",
    "hrefs = []\n",
    "p = 1\n",
    "while True:\n",
    "    url = f'https://www.ddm.go.kr/life/flowList.jsp?pageNo={p}&blockNo=0&searchParam1=&searchParam2=&searchParam3='\n",
    "    driver.get(url)\n",
    "    time.sleep(0.2)\n",
    "    elems = driver.find_elements_by_css_selector('#myForm > table > tbody > tr')\n",
    "    if '글이 없습니다.' in elems[0].text:\n",
    "        break\n",
    "    new_hrefs = [e.find_element_by_css_selector('td > a').get_attribute('href') for e in elems]\n",
    "    hrefs.append(new_hrefs)\n",
    "    p += 1\n",
    "hrefs = [j for sub in hrefs for j in sub]\n",
    "\n",
    "for href in hrefs:\n",
    "    driver.get(href)\n",
    "    time.sleep(0.2)\n",
    "    html7 += driver.find_element_by_css_selector('#contents > table > tbody > tr:nth-child(4)').get_attribute('outerHTML')"
   ]
  },
  {
   "cell_type": "markdown",
   "metadata": {},
   "source": [
    "# 서울 양천구 (1098)"
   ]
  },
  {
   "cell_type": "code",
   "execution_count": 41,
   "metadata": {},
   "outputs": [],
   "source": [
    "html8 = ''\n",
    "p = 1\n",
    "while True:\n",
    "    url = f'http://www.yangcheon.go.kr/site/yangcheon/ex/bbs/List.do?cbIdx=1021&pageIndex={p}'\n",
    "    driver.get(url)\n",
    "    time.sleep(0.2)\n",
    "    elems = driver.find_elements_by_css_selector('#bbsFVo > article > table > tbody > tr')\n",
    "    if len(elems) == 0:\n",
    "        break\n",
    "    for i in range(len(elems)):\n",
    "        elems2 = driver.find_elements_by_css_selector('#bbsFVo > article > table > tbody > tr')\n",
    "        elems2[i].find_element_by_css_selector('td.subject > a').click()\n",
    "        time.sleep(0.2)\n",
    "        html8 += driver.find_element_by_xpath('//*[@id=\"contents\"]/article/table/tbody/tr[4]/td/div').get_attribute('outerHTML')\n",
    "        driver.back()\n",
    "        time.sleep(0.2)\n",
    "    p += 1"
   ]
  },
  {
   "cell_type": "markdown",
   "metadata": {},
   "source": [
    "# 서울 영등포구 (1099), 여긴 원래 로딩이 느린가?, 좀 심각한데? 이건, 수기로 가야할듯"
   ]
  },
  {
   "cell_type": "code",
   "execution_count": 42,
   "metadata": {},
   "outputs": [],
   "source": [
    "html9 = ''\n",
    "hrefs = []\n",
    "p = 1\n",
    "while True:\n",
    "    url = f'https://www.ydp.go.kr/health/selectBbsNttList.do?bbsNo=467&&pageUnit=10&key=5139&pageIndex={p}'\n",
    "    driver.get(url)\n",
    "    time.sleep(0.4)\n",
    "    elems = driver.find_elements_by_css_selector('#board > div > div > table > tbody > tr')\n",
    "    new_hrefs = [e.find_element_by_css_selector('td.p-subject > a').get_attribute('href') for e in elems]\n",
    "    hrefs.append(new_hrefs)\n",
    "    if sum(['nttNo=323327' in e for e in new_hrefs]) == 1:\n",
    "        break\n",
    "    p += 1\n",
    "hrefs = [j for sub in hrefs for j in sub]\n",
    "\n",
    "for href in hrefs:\n",
    "    driver.get(href)\n",
    "    time.sleep(0.4)\n",
    "    html9 += driver.find_element_by_xpath('//*[@id=\"board\"]/div/div/table/tbody/tr[2]').get_attribute('outerHTML')"
   ]
  },
  {
   "cell_type": "markdown",
   "metadata": {},
   "source": [
    "# 서울 중랑구 (1104)"
   ]
  },
  {
   "cell_type": "code",
   "execution_count": 43,
   "metadata": {},
   "outputs": [],
   "source": [
    "html10 = ''\n",
    "hrefs = []\n",
    "p = 1\n",
    "while True:\n",
    "    \n",
    "    driver.get(f'https://www.jungnang.go.kr/portal/bbs/list/B0000458.do?menuNo=201212&pageIndex={p}')\n",
    "    time.sleep(0.2)\n",
    "    elems = driver.find_elements_by_css_selector('#content > div > div.table_wrap > div > table > tbody > tr')\n",
    "    new_hrefs = [e.find_element_by_css_selector('td.tit > a').get_attribute('href') for e in elems]\n",
    "    new_hrefs_idx = np.where(['확진자' in e.find_element_by_css_selector('td.tit > a').text for e in elems])[0]\n",
    "    hrefs.append(list(np.array(new_hrefs)[new_hrefs_idx]))\n",
    "    if sum(['129327.do?' in e for e in new_hrefs]) == 1:\n",
    "        break\n",
    "    p += 1\n",
    "\n",
    "hrefs = [j for sub in hrefs for j in sub]\n",
    "\n",
    "for href in hrefs:\n",
    "    driver.get(href)\n",
    "    time.sleep(0.2)\n",
    "    html10 += driver.find_element_by_xpath('//*[@id=\"dbdata\"]').get_attribute('outerHTML')"
   ]
  },
  {
   "cell_type": "markdown",
   "metadata": {},
   "source": [
    "# 경북 상주시 (1147)"
   ]
  },
  {
   "cell_type": "code",
   "execution_count": 44,
   "metadata": {},
   "outputs": [],
   "source": [
    "html11 = ''\n",
    "p = 1\n",
    "while True:\n",
    "    \n",
    "    driver.get(f'https://www.sangju.go.kr/tabBoard/view.tc?mn=4242&tabBoardSeq=87&pageSeq=3015&type=B&tabOrder=1&pageIndex={p}')\n",
    "    time.sleep(0.2)\n",
    "    elems = [e.text for e in driver.find_elements_by_css_selector('#form1 > div.scrollzone > div > table > tbody > tr')]\n",
    "\n",
    "    for i in range(len(elems)):\n",
    "        new_elems = driver.find_elements_by_css_selector('#form1 > div.scrollzone > div > table > tbody > tr')\n",
    "        new_elems[i].find_element_by_css_selector('td.al-l > a').click()\n",
    "        time.sleep(0.2)\n",
    "        html11 += driver.find_element_by_xpath('//*[@id=\"form1\"]/div/div[1]').get_attribute('outerHTML')\n",
    "        driver.back()\n",
    "    \n",
    "    if sum(['1번 확진자(만22세, 여, 냉림동, 대학생, 2.20일 확진, 3.26일 완치퇴원)' in e for e in elems]) == 1:\n",
    "        break\n",
    "    p += 1\n"
   ]
  },
  {
   "cell_type": "markdown",
   "metadata": {},
   "source": [
    "# 경북 의성시 (1157)"
   ]
  },
  {
   "cell_type": "code",
   "execution_count": 45,
   "metadata": {},
   "outputs": [],
   "source": [
    "html12 = ''\n",
    "p = 1\n",
    "while True:\n",
    "    \n",
    "    driver.get(f'https://www.usc.go.kr/tabBoard/view.tc?mn=2510&tabBoardSeq=51&pageSeq=1700&type=B&tabOrder=1&pageIndex={p}')\n",
    "    time.sleep(0.2)\n",
    "    elems = [e.text for e in driver.find_elements_by_css_selector('#form1 > table > tbody > tr')]\n",
    "\n",
    "    for i in range(len(elems)):\n",
    "        new_elems = driver.find_elements_by_css_selector('#form1 > table > tbody > tr')\n",
    "        new_elems[i].find_element_by_css_selector('td.al-l > a').click()\n",
    "        time.sleep(0.2)\n",
    "        html12 += driver.find_element_by_xpath('//*[@id=\"form1\"]/div/table/tbody/tr[3]/td/div').get_attribute('outerHTML')\n",
    "        driver.back()\n",
    "    \n",
    "    if sum(['의성#1(여, 53세, 구천면)' in e for e in elems]) == 1:\n",
    "        break\n",
    "    p += 1"
   ]
  },
  {
   "cell_type": "markdown",
   "metadata": {},
   "source": [
    "# 경남 거제시 (1162)"
   ]
  },
  {
   "cell_type": "code",
   "execution_count": 46,
   "metadata": {},
   "outputs": [],
   "source": [
    "driver.get('http://www.geoje.go.kr/index.geoje?contentsSid=12198#tit')\n",
    "time.sleep(0.2)\n",
    "\n",
    "html13 = '' \n",
    "\n",
    "elems1 = driver.find_elements_by_css_selector('body > div.g_inotro > div > div:nth-child(9) > div.list > div')\n",
    "hrefs1 = [e.find_element_by_css_selector('p > a').get_attribute('href') for e in elems1]\n",
    "elems2 = driver.find_elements_by_css_selector('body > div.g_inotro > div > div:nth-child(10) > div.list > p')\n",
    "hrefs2 = [e.find_element_by_css_selector('a').get_attribute('href') for e in elems2]\n",
    "\n",
    "for href in np.unique(hrefs1 + hrefs2):\n",
    "    driver.get(href)\n",
    "    time.sleep(0.2)\n",
    "    html13 += driver.find_element_by_xpath('//*[@id=\"con-wrap\"]/div[1]/div[1]/div/div[3]').get_attribute('outerHTML')"
   ]
  },
  {
   "cell_type": "markdown",
   "metadata": {},
   "source": [
    "# 경기 안양시 (1196)"
   ]
  },
  {
   "cell_type": "code",
   "execution_count": 47,
   "metadata": {},
   "outputs": [],
   "source": [
    "html14 = ''\n",
    "hrefs = []\n",
    "p = 1\n",
    "while True:\n",
    "    url = f'https://www.anyang.go.kr/main/selectBbsNttList.do?key=3136&bbsNo=631&pageIndex={p}'\n",
    "    driver.get(url)\n",
    "    time.sleep(0.2)\n",
    "    elems = driver.find_elements_by_css_selector('#contents > div > table > tbody > tr')\n",
    "    new_hrefs = [e.find_element_by_css_selector('td.p-subject > a').get_attribute('href') for e in elems]\n",
    "    hrefs.append(new_hrefs)\n",
    "    if sum(['nttNo=244958' in e for e in new_hrefs]) == 1:\n",
    "        break\n",
    "    p += 1\n",
    "hrefs = [j for sub in hrefs for j in sub]\n",
    "\n",
    "for href in hrefs:\n",
    "    driver.get(href)\n",
    "    time.sleep(0.2)\n",
    "    html14 += driver.find_element_by_xpath('//*[@id=\"contents\"]/div/table/tbody').get_attribute('outerHTML')"
   ]
  },
  {
   "cell_type": "markdown",
   "metadata": {},
   "source": [
    "# 경기 의왕시 (1203)"
   ]
  },
  {
   "cell_type": "code",
   "execution_count": 48,
   "metadata": {},
   "outputs": [],
   "source": [
    "html15 = ''\n",
    "hrefs = []\n",
    "p = 1\n",
    "while True:\n",
    "    url = f'https://www.uiwang.go.kr/UWKORINFO1703?curPage={p}'\n",
    "    driver.get(url)\n",
    "    time.sleep(0.2)\n",
    "    elems = driver.find_elements_by_css_selector('#main > div.bbsWrap > div.bbs-list > table > tbody > tr')\n",
    "    new_hrefs = [e.find_element_by_xpath('td[2]/a').get_attribute('href') for e in elems]\n",
    "    hrefs.append(new_hrefs)\n",
    "    if sum(['6954764' in e for e in new_hrefs]) == 1:\n",
    "        break\n",
    "    p += 1\n",
    "hrefs = [j for sub in hrefs for j in sub]\n",
    "\n",
    "for href in hrefs:\n",
    "    driver.get(href)\n",
    "    time.sleep(0.2)\n",
    "    html15 += driver.find_element_by_xpath('//*[@id=\"main\"]/div[2]/div[1]/table').get_attribute('outerHTML')"
   ]
  },
  {
   "cell_type": "markdown",
   "metadata": {},
   "source": [
    "# 경기 하남시 (1209)"
   ]
  },
  {
   "cell_type": "code",
   "execution_count": 49,
   "metadata": {},
   "outputs": [],
   "source": [
    "html16 = ''\n",
    "hrefs = []\n",
    "p = 1\n",
    "while True:\n",
    "    url = f'https://www.hanam.go.kr/health/coronaCntrplnDetailWebList.do?key=4960&detailType=4&pageIndex={p}'\n",
    "    driver.get(url)\n",
    "    time.sleep(0.2)\n",
    "    elems = driver.find_elements_by_css_selector('#contents > table.bbs_default.list > tbody > tr')\n",
    "    new_hrefs = [e.find_element_by_xpath('td[2]/a').get_attribute('href') for e in elems]\n",
    "    hrefs.append(new_hrefs)\n",
    "    if sum(['coronaCntrplnDetailNo=58' in e for e in new_hrefs]) == 1:\n",
    "        break\n",
    "    p += 1\n",
    "hrefs = [j for sub in hrefs for j in sub]\n",
    "\n",
    "for href in hrefs:\n",
    "    driver.get(href)\n",
    "    time.sleep(0.2)\n",
    "    html16 += driver.find_element_by_xpath('//*[@id=\"contents\"]/table[2]').get_attribute('outerHTML')"
   ]
  },
  {
   "cell_type": "markdown",
   "metadata": {},
   "source": [
    "# 강원 고성군 (1212)"
   ]
  },
  {
   "cell_type": "code",
   "execution_count": 50,
   "metadata": {},
   "outputs": [],
   "source": [
    "driver.get(urls[17])\n",
    "time.sleep(0.2)\n",
    "driver.find_element_by_xpath('//*[@id=\"searchForm\"]/fieldset/div/div[2]/div/div[2]/span/input').send_keys('이동경로')\n",
    "driver.find_element_by_xpath('//*[@id=\"numPerPage\"]/option[4]').click()\n",
    "driver.find_element_by_xpath('//*[@id=\"searchForm\"]/fieldset/div/div[2]/div/div[3]/span/input').click()\n",
    "time.sleep(0.2)\n",
    "elems = driver.find_elements_by_css_selector('#txt > div > div.no-more-tables > table > tbody > tr')\n",
    "html17 = ''\n",
    "for i in range(len(elems)):\n",
    "    new_elems = driver.find_elements_by_css_selector('#txt > div > div.no-more-tables > table > tbody > tr')\n",
    "    new_elems[i].find_element_by_xpath('td[2]/a').click()\n",
    "    time.sleep(0.2)\n",
    "    html17 += driver.find_element_by_xpath('//*[@id=\"txt\"]/div').get_attribute('outerHTML')\n",
    "    driver.back()\n",
    "    time.sleep(0.4)"
   ]
  },
  {
   "cell_type": "markdown",
   "metadata": {},
   "source": [
    "# 강원 영월군 (1218)\n"
   ]
  },
  {
   "cell_type": "code",
   "execution_count": 51,
   "metadata": {},
   "outputs": [],
   "source": [
    "html18 = ''\n",
    "hrefs = []\n",
    "p = 1\n",
    "while True:\n",
    "    url = f'https://www.yw.go.kr/www/selectBbsNttList.do?bbsNo=154&key=1280&pageIndex={p}'\n",
    "    driver.get(url)\n",
    "    time.sleep(0.2)\n",
    "    elems = driver.find_elements_by_css_selector('#contents > table > tbody > tr')\n",
    "    new_hrefs = [e.find_element_by_css_selector('td.subject > a').get_attribute('href') for e in elems]\n",
    "    hrefs.append(new_hrefs)\n",
    "    if sum(['nttNo=95556' in e for e in new_hrefs]) == 1:\n",
    "        break\n",
    "    p += 1\n",
    "hrefs = [j for sub in hrefs for j in sub]\n",
    "\n",
    "for href in hrefs:\n",
    "    driver.get(href)\n",
    "    time.sleep(0.2)\n",
    "    html18 += driver.find_element_by_xpath('//*[@id=\"contents\"]').get_attribute('outerHTML')"
   ]
  },
  {
   "cell_type": "markdown",
   "metadata": {},
   "source": [
    "# 서울 강서구 (1083)"
   ]
  },
  {
   "cell_type": "code",
   "execution_count": 52,
   "metadata": {},
   "outputs": [],
   "source": [
    "html19 = ''\n",
    "driver.get(urls[19])\n",
    "time.sleep(0.1)\n",
    "first = driver.find_element_by_xpath('//*[@id=\"x640147\"]').get_attribute('href')\n",
    "n = int(first[first.index('list_id=')+8:first.index('&page=')])\n",
    "\n",
    "while True:\n",
    "    url = f'https://www.gangseo.seoul.kr/new_portal/living/safe/page06_02_view.jsp?board_id=640&list_id={n}'\n",
    "    driver.get(url)\n",
    "    time.sleep(0.1)\n",
    "    html19 += driver.find_element_by_xpath('//*[@id=\"contents\"]/div[2]/div[2]/table').get_attribute('outerHTML')\n",
    "    n -= 1\n",
    "    if n == 0:\n",
    "        break"
   ]
  },
  {
   "cell_type": "code",
   "execution_count": 53,
   "metadata": {},
   "outputs": [],
   "source": [
    "df = pd.DataFrame({\n",
    "    'num': nums,\n",
    "    'url': urls\n",
    "})\n",
    "\n",
    "df['html'] = ''"
   ]
  },
  {
   "cell_type": "code",
   "execution_count": 54,
   "metadata": {},
   "outputs": [],
   "source": [
    "df.iloc[:,2] = [\n",
    "    html0, html1, html2, html3, html4, html5, html6, html7, html8, html9,\n",
    "    html10, html11, html12, html13, html14, html15, html16, html17, html18, html19\n",
    "]"
   ]
  },
  {
   "cell_type": "code",
   "execution_count": 55,
   "metadata": {},
   "outputs": [
    {
     "ename": "FileNotFoundError",
     "evalue": "[Errno 2] No such file or directory: '/Users/junseoklee/Desktop/works/jungmin/git/data/tables/200906/200906_type3.csv'",
     "output_type": "error",
     "traceback": [
      "\u001b[0;31m---------------------------------------------------------------------------\u001b[0m",
      "\u001b[0;31mFileNotFoundError\u001b[0m                         Traceback (most recent call last)",
      "\u001b[0;32m<ipython-input-55-92243226a6b8>\u001b[0m in \u001b[0;36m<module>\u001b[0;34m\u001b[0m\n\u001b[1;32m      1\u001b[0m \u001b[0mdf\u001b[0m\u001b[0;34m[\u001b[0m\u001b[0;34m'date'\u001b[0m\u001b[0;34m]\u001b[0m \u001b[0;34m=\u001b[0m \u001b[0mtoday\u001b[0m\u001b[0;34m\u001b[0m\u001b[0;34m\u001b[0m\u001b[0m\n\u001b[0;32m----> 2\u001b[0;31m \u001b[0mdf\u001b[0m\u001b[0;34m.\u001b[0m\u001b[0mto_csv\u001b[0m\u001b[0;34m(\u001b[0m\u001b[0mPATH_DATA\u001b[0m \u001b[0;34m/\u001b[0m \u001b[0;34m(\u001b[0m\u001b[0mtoday\u001b[0m \u001b[0;34m+\u001b[0m \u001b[0;34m'_type3.csv'\u001b[0m\u001b[0;34m)\u001b[0m\u001b[0;34m,\u001b[0m \u001b[0mindex\u001b[0m \u001b[0;34m=\u001b[0m \u001b[0;32mFalse\u001b[0m\u001b[0;34m)\u001b[0m\u001b[0;34m\u001b[0m\u001b[0;34m\u001b[0m\u001b[0m\n\u001b[0m",
      "\u001b[0;32m/opt/anaconda3/lib/python3.7/site-packages/pandas/core/generic.py\u001b[0m in \u001b[0;36mto_csv\u001b[0;34m(self, path_or_buf, sep, na_rep, float_format, columns, header, index, index_label, mode, encoding, compression, quoting, quotechar, line_terminator, chunksize, date_format, doublequote, escapechar, decimal)\u001b[0m\n\u001b[1;32m   3202\u001b[0m             \u001b[0mdecimal\u001b[0m\u001b[0;34m=\u001b[0m\u001b[0mdecimal\u001b[0m\u001b[0;34m,\u001b[0m\u001b[0;34m\u001b[0m\u001b[0;34m\u001b[0m\u001b[0m\n\u001b[1;32m   3203\u001b[0m         )\n\u001b[0;32m-> 3204\u001b[0;31m         \u001b[0mformatter\u001b[0m\u001b[0;34m.\u001b[0m\u001b[0msave\u001b[0m\u001b[0;34m(\u001b[0m\u001b[0;34m)\u001b[0m\u001b[0;34m\u001b[0m\u001b[0;34m\u001b[0m\u001b[0m\n\u001b[0m\u001b[1;32m   3205\u001b[0m \u001b[0;34m\u001b[0m\u001b[0m\n\u001b[1;32m   3206\u001b[0m         \u001b[0;32mif\u001b[0m \u001b[0mpath_or_buf\u001b[0m \u001b[0;32mis\u001b[0m \u001b[0;32mNone\u001b[0m\u001b[0;34m:\u001b[0m\u001b[0;34m\u001b[0m\u001b[0;34m\u001b[0m\u001b[0m\n",
      "\u001b[0;32m/opt/anaconda3/lib/python3.7/site-packages/pandas/io/formats/csvs.py\u001b[0m in \u001b[0;36msave\u001b[0;34m(self)\u001b[0m\n\u001b[1;32m    186\u001b[0m                 \u001b[0mself\u001b[0m\u001b[0;34m.\u001b[0m\u001b[0mmode\u001b[0m\u001b[0;34m,\u001b[0m\u001b[0;34m\u001b[0m\u001b[0;34m\u001b[0m\u001b[0m\n\u001b[1;32m    187\u001b[0m                 \u001b[0mencoding\u001b[0m\u001b[0;34m=\u001b[0m\u001b[0mself\u001b[0m\u001b[0;34m.\u001b[0m\u001b[0mencoding\u001b[0m\u001b[0;34m,\u001b[0m\u001b[0;34m\u001b[0m\u001b[0;34m\u001b[0m\u001b[0m\n\u001b[0;32m--> 188\u001b[0;31m                 \u001b[0mcompression\u001b[0m\u001b[0;34m=\u001b[0m\u001b[0mdict\u001b[0m\u001b[0;34m(\u001b[0m\u001b[0mself\u001b[0m\u001b[0;34m.\u001b[0m\u001b[0mcompression_args\u001b[0m\u001b[0;34m,\u001b[0m \u001b[0mmethod\u001b[0m\u001b[0;34m=\u001b[0m\u001b[0mself\u001b[0m\u001b[0;34m.\u001b[0m\u001b[0mcompression\u001b[0m\u001b[0;34m)\u001b[0m\u001b[0;34m,\u001b[0m\u001b[0;34m\u001b[0m\u001b[0;34m\u001b[0m\u001b[0m\n\u001b[0m\u001b[1;32m    189\u001b[0m             )\n\u001b[1;32m    190\u001b[0m             \u001b[0mclose\u001b[0m \u001b[0;34m=\u001b[0m \u001b[0;32mTrue\u001b[0m\u001b[0;34m\u001b[0m\u001b[0;34m\u001b[0m\u001b[0m\n",
      "\u001b[0;32m/opt/anaconda3/lib/python3.7/site-packages/pandas/io/common.py\u001b[0m in \u001b[0;36mget_handle\u001b[0;34m(path_or_buf, mode, encoding, compression, memory_map, is_text)\u001b[0m\n\u001b[1;32m    426\u001b[0m         \u001b[0;32mif\u001b[0m \u001b[0mencoding\u001b[0m\u001b[0;34m:\u001b[0m\u001b[0;34m\u001b[0m\u001b[0;34m\u001b[0m\u001b[0m\n\u001b[1;32m    427\u001b[0m             \u001b[0;31m# Encoding\u001b[0m\u001b[0;34m\u001b[0m\u001b[0;34m\u001b[0m\u001b[0;34m\u001b[0m\u001b[0m\n\u001b[0;32m--> 428\u001b[0;31m             \u001b[0mf\u001b[0m \u001b[0;34m=\u001b[0m \u001b[0mopen\u001b[0m\u001b[0;34m(\u001b[0m\u001b[0mpath_or_buf\u001b[0m\u001b[0;34m,\u001b[0m \u001b[0mmode\u001b[0m\u001b[0;34m,\u001b[0m \u001b[0mencoding\u001b[0m\u001b[0;34m=\u001b[0m\u001b[0mencoding\u001b[0m\u001b[0;34m,\u001b[0m \u001b[0mnewline\u001b[0m\u001b[0;34m=\u001b[0m\u001b[0;34m\"\"\u001b[0m\u001b[0;34m)\u001b[0m\u001b[0;34m\u001b[0m\u001b[0;34m\u001b[0m\u001b[0m\n\u001b[0m\u001b[1;32m    429\u001b[0m         \u001b[0;32melif\u001b[0m \u001b[0mis_text\u001b[0m\u001b[0;34m:\u001b[0m\u001b[0;34m\u001b[0m\u001b[0;34m\u001b[0m\u001b[0m\n\u001b[1;32m    430\u001b[0m             \u001b[0;31m# No explicit encoding\u001b[0m\u001b[0;34m\u001b[0m\u001b[0;34m\u001b[0m\u001b[0;34m\u001b[0m\u001b[0m\n",
      "\u001b[0;31mFileNotFoundError\u001b[0m: [Errno 2] No such file or directory: '/Users/junseoklee/Desktop/works/jungmin/git/data/tables/200906/200906_type3.csv'"
     ]
    }
   ],
   "source": [
    "df['date'] = today\n",
    "df.to_csv(PATH_DATA / (today + '_type3.csv'), index = False)"
   ]
  },
  {
   "cell_type": "code",
   "execution_count": null,
   "metadata": {},
   "outputs": [],
   "source": [
    "driver.quit()"
   ]
  },
  {
   "cell_type": "code",
   "execution_count": null,
   "metadata": {},
   "outputs": [],
   "source": []
  }
 ],
 "metadata": {
  "kernelspec": {
   "display_name": "Python 3",
   "language": "python",
   "name": "python3"
  },
  "language_info": {
   "codemirror_mode": {
    "name": "ipython",
    "version": 3
   },
   "file_extension": ".py",
   "mimetype": "text/x-python",
   "name": "python",
   "nbconvert_exporter": "python",
   "pygments_lexer": "ipython3",
   "version": "3.7.6"
  }
 },
 "nbformat": 4,
 "nbformat_minor": 4
}
