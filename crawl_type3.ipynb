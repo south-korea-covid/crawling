{
 "cells": [
  {
   "cell_type": "markdown",
   "metadata": {},
   "source": [
    "# Type 3: 링크 타고 들어가는 애들\n",
    "- 마지막 업데이트 : 11월 8일\n",
    "- 수정한 사람 : 이준석"
   ]
  },
  {
   "cell_type": "code",
   "execution_count": 32,
   "metadata": {},
   "outputs": [],
   "source": [
    "import datetime as dt\n",
    "import numpy as np\n",
    "import pandas as pd\n",
    "from pathlib import Path\n",
    "import time\n",
    "from tqdm import tqdm\n",
    "from selenium import webdriver"
   ]
  },
  {
   "cell_type": "code",
   "execution_count": 60,
   "metadata": {},
   "outputs": [],
   "source": [
    "today = '201128' #sr(dt.datetime.today().date()).replace('-','')[2:]\n",
    "PATH_DATA = Path.cwd().parent / 'data' / 'raw_tables' / today\n",
    "\n",
    "chromedriver = '/Users/junseoklee/Applications/chromedriver'\n",
    "options = webdriver.ChromeOptions()\n",
    "options.add_argument('headless')\n",
    "driver = webdriver.Chrome(chromedriver, options = options) \n",
    "driver.set_window_size(1600,2000)"
   ]
  },
  {
   "cell_type": "code",
   "execution_count": 34,
   "metadata": {},
   "outputs": [],
   "source": [
    "nums = [\n",
    "1049,\n",
    "1051,\n",
    "1056,\n",
    "1060,\n",
    "1063,\n",
    "1064,\n",
    "1084,\n",
    "1090,\n",
    "1098,\n",
    "1099,\n",
    "1104,\n",
    "1147,\n",
    "1157,\n",
    "1162,\n",
    "1196,\n",
    "1203,\n",
    "1209,\n",
    "1212,\n",
    "1218,\n",
    "1083\n",
    "]"
   ]
  },
  {
   "cell_type": "code",
   "execution_count": 35,
   "metadata": {},
   "outputs": [],
   "source": [
    "urls = [\n",
    "'http://www.damyang.go.kr/health/board/list.damyang?boardId=BBS_0000262&menuCd=DOM_000000505004008000&contentsSid=2237&cpath=%2Fhealth',\n",
    "'http://www.muan.go.kr/www/openmuan/COVID19/course',\n",
    "'https://www.yeonggwang.go.kr/bbs/?b_id=corona_move&site=hospital&mn=8245',\n",
    "'http://www.jangheung.go.kr/www/life_welfare/public_security_action/covid19',\n",
    "'http://www.haenam.go.kr/planweb/board/list.9is?contentUid=18e3368f73be0d960174329a696b41a7&boardUid=18e3368f73be0d960174329977374199&contentUid=18e3368f73be0d960174329a696b41a7',\n",
    "'https://www.hwasun.go.kr/board.do?S=S01&M=031501000000&b_code=0000000269',\n",
    "'http://www.gwanak.go.kr/site/health/ex/bbs/List.do?cbIdx=587',\n",
    "'https://www.ddm.go.kr/life/flowList.jsp',\n",
    "'http://www.yangcheon.go.kr/site/yangcheon/ex/bbs/List.do?cbIdx=1021',\n",
    "'https://www.ydp.go.kr/health/selectBbsNttList.do?bbsNo=467&key=5139&',\n",
    "'https://www.jungnang.go.kr/portal/bbs/list/B0000458.do?menuNo=201212',\n",
    "'https://www.sangju.go.kr/tabBoard/view.tc?mn=4242&tabBoardSeq=87&pageSeq=3015&type=B&tabOrder=1',\n",
    "'https://www.usc.go.kr/tabBoard/view.tc?mn=2510&tabBoardSeq=51&pageSeq=1700&type=B&tabOrder=1',\n",
    "'https://www.geoje.go.kr/board/list.geoje?boardId=BBS_0000615&menuCd=DOM_000008906015003000&contentsSid=12185&cpath=',\n",
    "'https://www.anyang.go.kr/main/selectBbsNttList.do?bbsNo=631&key=3136',\n",
    "'https://www.uiwang.go.kr/UWKORINFO1703',\n",
    "'https://www.hanam.go.kr/health/coronaCntrplnDetailWebList.do?key=4960&detailType=4&pageIndex=1',\n",
    "'https://www.gwgs.go.kr/prog/bbsArticle/BBSMSTR_000000003621/list.do',\n",
    "'https://www.yw.go.kr/www/selectBbsNttList.do?bbsNo=154&key=1280',\n",
    "'https://www.gangseo.seoul.kr/new_portal/living/safe/page06_02.jsp?board_id=640'\n",
    "]"
   ]
  },
  {
   "cell_type": "markdown",
   "metadata": {},
   "source": [
    "# 전남 담양 (1049)\n",
    "- 11월 8일 : 이상무"
   ]
  },
  {
   "cell_type": "code",
   "execution_count": 36,
   "metadata": {},
   "outputs": [],
   "source": [
    "driver.get(urls[0])\n",
    "time.sleep(0.2)\n",
    "\n",
    "elems = driver.find_elements_by_css_selector('#content > div.bbs_list02 > table > tbody > tr > td.DATA_TITLE')\n",
    "hrefs = [e.find_element_by_css_selector('a').get_attribute('href') for e in elems]\n",
    "\n",
    "html0 = ''\n",
    "for href in hrefs:\n",
    "    driver.get(href)\n",
    "    time.sleep(0.2)\n",
    "    html0 += driver.find_element_by_xpath('//*[@id=\"content\"]/div[2]/table').get_attribute('outerHTML')"
   ]
  },
  {
   "cell_type": "markdown",
   "metadata": {},
   "source": [
    "# 전남 무안 (1051)\n",
    "- 11월 8일 : 확진자가 더이상 나오지 않아서 그런지 업데이트 되는 것이 딱히 없는 상황"
   ]
  },
  {
   "cell_type": "code",
   "execution_count": 37,
   "metadata": {},
   "outputs": [],
   "source": [
    "driver.get(urls[1])\n",
    "time.sleep(0.2)\n",
    "html1 = ''\n",
    "elems = driver.find_elements_by_css_selector('#content > div > table > tbody > tr ')\n",
    "\n",
    "if elems[0].text != '검색내역이 없습니다.':    \n",
    "    hrefs = [e.find_element_by_css_selector('td > a').get_attribute('href') for e in elems]\n",
    "\n",
    "    for href in hrefs:\n",
    "        driver.get(href)\n",
    "        time.sleep(0.2)\n",
    "        html1 += driver.find_element_by_xpath('//*[@id=\"content\"]').get_attribute('outerHTML')"
   ]
  },
  {
   "cell_type": "markdown",
   "metadata": {},
   "source": [
    "# 전남 영광 (1056)\n",
    "- 11월 8일 : 원래 type3 였는데, 사이트 바뀌면서 type1으로 옮김"
   ]
  },
  {
   "cell_type": "code",
   "execution_count": 38,
   "metadata": {},
   "outputs": [],
   "source": [
    "html2 = ''"
   ]
  },
  {
   "cell_type": "markdown",
   "metadata": {},
   "source": [
    "# 전남 장흥군 (1060)\n",
    "- 11월 8일 : 이상무"
   ]
  },
  {
   "cell_type": "code",
   "execution_count": 39,
   "metadata": {},
   "outputs": [],
   "source": [
    "driver.get(urls[3])\n",
    "time.sleep(0.2)\n",
    "\n",
    "elems = driver.find_elements_by_xpath('//*[@id=\"content\"]/div/table/tbody/tr')\n",
    "hrefs = [e.find_element_by_css_selector('td > a').get_attribute('href') for e in elems]\n",
    "html3 = ''\n",
    "\n",
    "for href in hrefs:\n",
    "    driver.get(href)\n",
    "    time.sleep(0.2)\n",
    "    html3 += driver.find_element_by_xpath('//*[@id=\"board_basic_view\"]').get_attribute('outerHTML')"
   ]
  },
  {
   "cell_type": "markdown",
   "metadata": {},
   "source": [
    "# 전남 해남군 (1063)\n",
    "- 11월 8일 : 첨부파일로 올리는 거로 동선 공개가 바뀜. 크롤링 불가능;"
   ]
  },
  {
   "cell_type": "code",
   "execution_count": 40,
   "metadata": {},
   "outputs": [],
   "source": [
    "html4 = ''\n",
    "driver.get(urls[4])\n",
    "time.sleep(0.2)\n",
    "driver.find_element_by_xpath('//*[@id=\"tabUl1\"]/a').click()\n",
    "time.sleep(0.2)\n",
    "\n",
    "elems = driver.find_elements_by_xpath('//*[@id=\"content\"]/table/tbody/tr')\n",
    "hrefs = [e.find_element_by_css_selector('td > a').get_attribute('href') for e in elems]\n",
    "\n",
    "\n",
    "for href in hrefs:\n",
    "    driver.get(href)\n",
    "    time.sleep(0.2)\n",
    "    html4 += driver.find_element_by_xpath('//*[@id=\"content\"]/div[1]/div[1]').get_attribute('outerHTML')"
   ]
  },
  {
   "cell_type": "markdown",
   "metadata": {},
   "source": [
    "# 전남 화순군 (1064)\n",
    "- 11월 8일 : 이상무"
   ]
  },
  {
   "cell_type": "code",
   "execution_count": 41,
   "metadata": {},
   "outputs": [],
   "source": [
    "driver.get(urls[5])\n",
    "time.sleep(0.2)\n",
    "\n",
    "elems = driver.find_elements_by_xpath('//*[@id=\"printPage\"]/div[2]/form/div/table/tbody/tr')\n",
    "hrefs = [e.find_element_by_css_selector('td > a').get_attribute('href') for e in elems]\n",
    "html5 = ''\n",
    "\n",
    "for href in hrefs:\n",
    "    driver.get(href)\n",
    "    time.sleep(0.2)\n",
    "    html5 += driver.find_element_by_xpath('//*[@id=\"printPage\"]/div[2]/div[2]/ul/li[2]').get_attribute('outerHTML')"
   ]
  },
  {
   "cell_type": "markdown",
   "metadata": {},
   "source": [
    "# 서울 관악구 (1084)\n",
    "- 11월 8일 : 이상무"
   ]
  },
  {
   "cell_type": "code",
   "execution_count": 42,
   "metadata": {},
   "outputs": [],
   "source": [
    "driver.get(urls[6])\n",
    "time.sleep(0.2)\n",
    "html6 = '' \n",
    "\n",
    "buttons = driver.find_elements_by_css_selector('#boardDivId > div > a')\n",
    "for n in range(len(buttons)+1):\n",
    "    m = 0\n",
    "    elems = driver.find_elements_by_xpath('//*[@id=\"boardDivId\"]/table/tbody/tr')\n",
    "    for i in range(len(elems)):\n",
    "        elems2 = driver.find_elements_by_xpath('//*[@id=\"boardDivId\"]/table/tbody/tr')\n",
    "        elems2[i].click()\n",
    "        time.sleep(0.2)\n",
    "        html6 += driver.find_element_by_xpath('//*[@id=\"contents\"]/div/table/tbody/tr[4]/td/div').get_attribute('outerHTML')\n",
    "        driver.back()\n",
    "        time.sleep(0.2)\n",
    "    if n != len(buttons):\n",
    "        buttons2 = driver.find_elements_by_css_selector('#boardDivId > div > a')\n",
    "        buttons2[n].click()"
   ]
  },
  {
   "cell_type": "markdown",
   "metadata": {},
   "source": [
    "# 서울 동대문구 (1090)\n",
    "- 11월 8일 : 이상무"
   ]
  },
  {
   "cell_type": "code",
   "execution_count": 43,
   "metadata": {},
   "outputs": [],
   "source": [
    "html7 = ''\n",
    "hrefs = []\n",
    "p = 1\n",
    "while True:\n",
    "    url = f'https://www.ddm.go.kr/life/flowList.jsp?pageNo={p}&blockNo=0&searchParam1=&searchParam2=&searchParam3='\n",
    "    driver.get(url)\n",
    "    time.sleep(0.5)\n",
    "    elems = driver.find_elements_by_css_selector('#myForm > table > tbody > tr')\n",
    "    if '글이 없습니다.' in elems[0].text:\n",
    "        break\n",
    "    new_hrefs = [e.find_element_by_css_selector('td > a').get_attribute('href') for e in elems]\n",
    "    hrefs.append(new_hrefs)\n",
    "    p += 1\n",
    "hrefs = [j for sub in hrefs for j in sub]"
   ]
  },
  {
   "cell_type": "code",
   "execution_count": 44,
   "metadata": {},
   "outputs": [],
   "source": [
    "for href in hrefs:\n",
    "    driver.get(href)\n",
    "    time.sleep(1)\n",
    "    html7 += driver.find_element_by_css_selector('#contents > table > tbody > tr:nth-child(4)').get_attribute('outerHTML')"
   ]
  },
  {
   "cell_type": "markdown",
   "metadata": {},
   "source": [
    "# 서울 양천구 (1098)\n",
    "- 11월 8일 : 이상무"
   ]
  },
  {
   "cell_type": "code",
   "execution_count": 45,
   "metadata": {},
   "outputs": [],
   "source": [
    "html8 = ''\n",
    "p = 1\n",
    "while True:\n",
    "    url = f'http://www.yangcheon.go.kr/site/yangcheon/ex/bbs/List.do?cbIdx=1021&pageIndex={p}'\n",
    "    driver.get(url)\n",
    "    time.sleep(0.2)\n",
    "    elems = driver.find_elements_by_css_selector('#bbsFVo > article > table > tbody > tr')\n",
    "    if len(elems) == 0:\n",
    "        break\n",
    "    for i in range(len(elems)):\n",
    "        elems2 = driver.find_elements_by_css_selector('#bbsFVo > article > table > tbody > tr')\n",
    "        elems2[i].find_element_by_css_selector('td.subject > a').click()\n",
    "        time.sleep(0.2)\n",
    "        html8 += driver.find_element_by_xpath('//*[@id=\"contents\"]/article/table/tbody/tr[4]/td/div').get_attribute('outerHTML')\n",
    "        driver.back()\n",
    "        time.sleep(0.2)\n",
    "    p += 1"
   ]
  },
  {
   "cell_type": "markdown",
   "metadata": {},
   "source": [
    "# 서울 영등포구 (1099), 여긴 원래 로딩이 느림\n",
    "- 11월 8일 이상무"
   ]
  },
  {
   "cell_type": "code",
   "execution_count": 46,
   "metadata": {},
   "outputs": [
    {
     "name": "stderr",
     "output_type": "stream",
     "text": [
      "0it [00:00, ?it/s]\n",
      "0it [00:00, ?it/s]\n",
      "0it [00:00, ?it/s]\n",
      "0it [00:00, ?it/s]\n",
      "0it [00:00, ?it/s]\n",
      "0it [00:00, ?it/s]\n",
      "0it [00:00, ?it/s]\n",
      "0it [00:00, ?it/s]\n",
      "0it [00:00, ?it/s]\n",
      "0it [00:00, ?it/s]\n",
      "0it [00:00, ?it/s]\n",
      "0it [00:00, ?it/s]\n",
      "0it [00:00, ?it/s]\n",
      "0it [00:00, ?it/s]\n",
      "0it [00:00, ?it/s]\n",
      "0it [00:00, ?it/s]\n",
      "0it [00:00, ?it/s]\n",
      "0it [00:00, ?it/s]\n",
      "0it [00:00, ?it/s]\n",
      "0it [00:00, ?it/s]\n"
     ]
    }
   ],
   "source": [
    "html9 = ''\n",
    "hrefs = []\n",
    "p = 1\n",
    "while tqdm(True):\n",
    "    url = f'https://www.ydp.go.kr/health/selectBbsNttList.do?bbsNo=467&&pageUnit=10&key=5139&pageIndex={p}'\n",
    "    driver.get(url)\n",
    "    time.sleep(0.4)\n",
    "    elems = driver.find_elements_by_css_selector('#board > div > div > table > tbody > tr')\n",
    "    new_hrefs = [e.find_element_by_css_selector('td.p-subject > a').get_attribute('href') for e in elems]\n",
    "    hrefs.append(new_hrefs)\n",
    "    if sum(['nttNo=323327' in e for e in new_hrefs]) == 1:\n",
    "        break\n",
    "    p += 1\n",
    "hrefs = [j for sub in hrefs for j in sub]"
   ]
  },
  {
   "cell_type": "code",
   "execution_count": 47,
   "metadata": {},
   "outputs": [],
   "source": [
    "html9 = ''\n",
    "for href in hrefs:\n",
    "    driver.get(href)\n",
    "    time.sleep(1)\n",
    "    html9 += driver.find_element_by_xpath('//*[@id=\"board\"]/div/div/table/tbody/tr[2]').get_attribute('outerHTML')"
   ]
  },
  {
   "cell_type": "markdown",
   "metadata": {},
   "source": [
    "# 서울 중랑구 (1104)\n",
    "- 11월 8일 이상무"
   ]
  },
  {
   "cell_type": "code",
   "execution_count": 48,
   "metadata": {},
   "outputs": [],
   "source": [
    "html10 = ''\n",
    "hrefs = []\n",
    "p = 1\n",
    "while True:\n",
    "    \n",
    "    driver.get(f'https://www.jungnang.go.kr/portal/bbs/list/B0000458.do?menuNo=201212&pageIndex={p}')\n",
    "    time.sleep(0.2)\n",
    "    elems = driver.find_elements_by_css_selector('#content > div > div.table_wrap > div > table > tbody > tr')\n",
    "    new_hrefs = [e.find_element_by_css_selector('td.tit > a').get_attribute('href') for e in elems]\n",
    "    new_hrefs_idx = np.where(['확진자' in e.find_element_by_css_selector('td.tit > a').text for e in elems])[0]\n",
    "    hrefs.append(list(np.array(new_hrefs)[new_hrefs_idx]))\n",
    "    if sum(['129327.do?' in e for e in new_hrefs]) == 1:\n",
    "        break\n",
    "    p += 1\n",
    "\n",
    "hrefs = [j for sub in hrefs for j in sub]\n",
    "\n",
    "for href in hrefs:\n",
    "    driver.get(href)\n",
    "    time.sleep(0.2)\n",
    "    html10 += driver.find_element_by_xpath('//*[@id=\"dbdata\"]').get_attribute('outerHTML')"
   ]
  },
  {
   "cell_type": "markdown",
   "metadata": {},
   "source": [
    "# 경북 상주시 (1147)\n",
    "- 11월 8일 이상무"
   ]
  },
  {
   "cell_type": "code",
   "execution_count": 49,
   "metadata": {},
   "outputs": [],
   "source": [
    "html11 = ''\n",
    "p = 1\n",
    "while True:\n",
    "    \n",
    "    driver.get(f'https://www.sangju.go.kr/tabBoard/view.tc?mn=4242&tabBoardSeq=87&pageSeq=3015&type=B&tabOrder=1&pageIndex={p}')\n",
    "    time.sleep(0.2)\n",
    "    elems = [e.text for e in driver.find_elements_by_css_selector('#form1 > div.scrollzone > div > table > tbody > tr')]\n",
    "\n",
    "    for i in range(len(elems)):\n",
    "        new_elems = driver.find_elements_by_css_selector('#form1 > div.scrollzone > div > table > tbody > tr')\n",
    "        new_elems[i].find_element_by_css_selector('td.al-l > a').click()\n",
    "        time.sleep(0.2)\n",
    "        html11 += driver.find_element_by_xpath('//*[@id=\"form1\"]/div/div[1]').get_attribute('outerHTML')\n",
    "        driver.back()\n",
    "    \n",
    "    if sum(['1번 확진자(냉림동, 2.20일 확진, 3.26일 퇴원)' in e for e in elems]) == 1:\n",
    "        break\n",
    "    p += 1\n"
   ]
  },
  {
   "cell_type": "markdown",
   "metadata": {},
   "source": [
    "# 경북 의성시 (1157), 확진자 이동공개 링크 사라짐\n",
    "- 11월 8일 : type1으로 변경됨"
   ]
  },
  {
   "cell_type": "code",
   "execution_count": 50,
   "metadata": {},
   "outputs": [],
   "source": [
    "html12 = ''"
   ]
  },
  {
   "cell_type": "markdown",
   "metadata": {},
   "source": [
    "# 경남 거제시 (1162)\n",
    "- 11월 8일 : type1으로 변경됨"
   ]
  },
  {
   "cell_type": "code",
   "execution_count": 51,
   "metadata": {},
   "outputs": [],
   "source": [
    "html13 = ''"
   ]
  },
  {
   "cell_type": "markdown",
   "metadata": {},
   "source": [
    "# 경기 안양시 (1196)\n",
    "- 11월 8일 : 시간 단축을 위해 공개기간 만료는 모으지 않는 걸로 함"
   ]
  },
  {
   "cell_type": "code",
   "execution_count": 52,
   "metadata": {},
   "outputs": [],
   "source": [
    "html14 = ''\n",
    "hrefs = []\n",
    "p = 1\n",
    "while True:\n",
    "    url = f'https://www.anyang.go.kr/main/selectBbsNttList.do?key=3136&bbsNo=631&pageIndex={p}'\n",
    "    driver.get(url)\n",
    "    time.sleep(0.2)\n",
    "    elems = driver.find_elements_by_css_selector('#contents > div > table > tbody > tr')\n",
    "    new_hrefs = [e.find_element_by_css_selector('td.p-subject > a').get_attribute('href') for e in elems]\n",
    "    hrefs.append(new_hrefs)\n",
    "    if sum(['nttNo=244958' in e for e in new_hrefs]) == 1:\n",
    "        break\n",
    "    p += 1\n",
    "hrefs = [j for sub in hrefs for j in sub]"
   ]
  },
  {
   "cell_type": "code",
   "execution_count": 53,
   "metadata": {},
   "outputs": [],
   "source": [
    "for href in hrefs:\n",
    "    driver.get(href)\n",
    "    time.sleep(0.2)\n",
    "    title = driver.find_element_by_css_selector('#contents > div > table > tbody > tr.p-table__subject > td > span').text\n",
    "    if '공개기간 만료' in title:\n",
    "        break\n",
    "    else:\n",
    "        html14 += driver.find_element_by_xpath('//*[@id=\"contents\"]/div/table/tbody').get_attribute('outerHTML')"
   ]
  },
  {
   "cell_type": "markdown",
   "metadata": {},
   "source": [
    "# 경기 의왕시 (1203)\n",
    "- 11월 8일 : 시간 단축을 위해 공개기간 만료는 모으지 않는 걸로 함"
   ]
  },
  {
   "cell_type": "code",
   "execution_count": 54,
   "metadata": {},
   "outputs": [],
   "source": [
    "html15 = ''\n",
    "hrefs = []\n",
    "p = 1\n",
    "while True:\n",
    "    url = f'https://www.uiwang.go.kr/UWKORINFO1703?curPage={p}'\n",
    "    driver.get(url)\n",
    "    time.sleep(0.2)\n",
    "    elems = driver.find_elements_by_css_selector('#main > div.bbsWrap > div.bbs-list > table > tbody > tr')\n",
    "    new_hrefs = [e.find_element_by_xpath('td[2]/a').get_attribute('href') for e in elems]\n",
    "    hrefs.append(new_hrefs)\n",
    "    if sum(['6954764' in e for e in new_hrefs]) == 1:\n",
    "        break\n",
    "    p += 1\n",
    "hrefs = [j for sub in hrefs for j in sub]\n",
    "\n",
    "for href in hrefs:\n",
    "    driver.get(href)\n",
    "    time.sleep(0.2)\n",
    "    content = driver.find_element_by_xpath('//*[@id=\"main\"]/div[2]/div[1]/table').get_attribute('outerHTML')\n",
    "    if '공개정보는 삭제하였습니다' in content:\n",
    "        break\n",
    "    else:\n",
    "        html15 += content"
   ]
  },
  {
   "cell_type": "markdown",
   "metadata": {},
   "source": [
    "# 경기 하남시 (1209)\n",
    "- 11월 8일 : 시간 단축을 위해 공개기간 만료는 모으지 않는 걸로 함"
   ]
  },
  {
   "cell_type": "code",
   "execution_count": 55,
   "metadata": {},
   "outputs": [],
   "source": [
    "html16 = ''\n",
    "hrefs = []\n",
    "p = 1\n",
    "while True:\n",
    "    url = f'https://www.hanam.go.kr/health/coronaCntrplnDetailWebList.do?key=4960&detailType=4&pageIndex={p}'\n",
    "    driver.get(url)\n",
    "    time.sleep(0.2)\n",
    "    elems = driver.find_elements_by_css_selector('#contents > table.bbs_default.list > tbody > tr')\n",
    "    new_hrefs = [e.find_element_by_xpath('td[2]/a').get_attribute('href') for e in elems]\n",
    "    hrefs.append(new_hrefs)\n",
    "    if sum(['coronaCntrplnDetailNo=58' in e for e in new_hrefs]) == 1:\n",
    "        break\n",
    "    p += 1\n",
    "hrefs = [j for sub in hrefs for j in sub]\n",
    "\n",
    "for href in hrefs:\n",
    "    driver.get(href)\n",
    "    time.sleep(0.2)\n",
    "    content = driver.find_element_by_xpath('//*[@id=\"contents\"]/table[2]').get_attribute('outerHTML')\n",
    "    if '해당 내용은 삭제되었습니다.' in content:\n",
    "        break\n",
    "    else:        \n",
    "        html16 += content"
   ]
  },
  {
   "cell_type": "markdown",
   "metadata": {},
   "source": [
    "# 강원 고성군 (1212)\n",
    "- 11월 8일 : 시간 단축을 위해 공개기간 만료는 모으지 않는 걸로 함"
   ]
  },
  {
   "cell_type": "code",
   "execution_count": 56,
   "metadata": {},
   "outputs": [],
   "source": [
    "driver.get(urls[17])\n",
    "time.sleep(0.2)\n",
    "driver.find_element_by_xpath('//*[@id=\"searchForm\"]/fieldset/div/div[2]/div/div[2]/span/input').send_keys('이동경로')\n",
    "driver.find_element_by_xpath('//*[@id=\"numPerPage\"]/option[4]').click()\n",
    "driver.find_element_by_xpath('//*[@id=\"searchForm\"]/fieldset/div/div[2]/div/div[3]/span/input').click()\n",
    "time.sleep(0.2)\n",
    "elems = driver.find_elements_by_css_selector('#txt > div > div.no-more-tables > table > tbody > tr')\n",
    "html17 = ''\n",
    "for i in range(len(elems)):\n",
    "    new_elems = driver.find_elements_by_css_selector('#txt > div > div.no-more-tables > table > tbody > tr')\n",
    "    new_elems[i].find_element_by_xpath('td[2]/a').click()\n",
    "    time.sleep(0.2)\n",
    "    title = driver.find_element_by_css_selector('#txt > div > div.ui.bbs--view > div.ui.bbs--view--header > h2').text\n",
    "    if '비공개 전환' in title:\n",
    "        break\n",
    "    else:\n",
    "        html17 += driver.find_element_by_xpath('//*[@id=\"txt\"]/div').get_attribute('outerHTML')\n",
    "        driver.back()\n",
    "        time.sleep(0.4)"
   ]
  },
  {
   "cell_type": "markdown",
   "metadata": {},
   "source": [
    "# 강원 영월군 (1218)\n",
    "- 11월 8일 : 이상무"
   ]
  },
  {
   "cell_type": "code",
   "execution_count": 57,
   "metadata": {},
   "outputs": [],
   "source": [
    "html18 = ''\n",
    "hrefs = []\n",
    "p = 1\n",
    "while True:\n",
    "    url = f'https://www.yw.go.kr/www/selectBbsNttList.do?bbsNo=154&key=1280&pageIndex={p}'\n",
    "    driver.get(url)\n",
    "    time.sleep(0.2)\n",
    "    elems = driver.find_elements_by_css_selector('#contents > table > tbody > tr')\n",
    "    new_hrefs = [e.find_element_by_css_selector('td.subject > a').get_attribute('href') for e in elems]\n",
    "    hrefs.append(new_hrefs)\n",
    "    if sum(['nttNo=95556' in e for e in new_hrefs]) == 1:\n",
    "        break\n",
    "    p += 1\n",
    "hrefs = [j for sub in hrefs for j in sub]\n",
    "\n",
    "for href in hrefs:\n",
    "    driver.get(href)\n",
    "    time.sleep(0.2)\n",
    "    html18 += driver.find_element_by_xpath('//*[@id=\"contents\"]').get_attribute('outerHTML')"
   ]
  },
  {
   "cell_type": "markdown",
   "metadata": {},
   "source": [
    "# 서울 강서구 (1083)\n",
    "- 11월 8일 : 시간 단축을 위해 공개기간 만료는 모으지 않는 걸로 함\n",
    "- 11월 28일 : 페이지 바뀜"
   ]
  },
  {
   "cell_type": "code",
   "execution_count": 68,
   "metadata": {},
   "outputs": [],
   "source": [
    "driver.get(\"https://www.gangseo.seoul.kr/new_portal/living/safe/page06_04_include.jsp?type=inside\")\n",
    "time.sleep(0.1)\n",
    "html19 = driver.page_source"
   ]
  },
  {
   "cell_type": "code",
   "execution_count": 69,
   "metadata": {},
   "outputs": [],
   "source": [
    "df = pd.DataFrame({\n",
    "    'num': nums,\n",
    "    'url': urls\n",
    "})\n",
    "\n",
    "df['html'] = ''"
   ]
  },
  {
   "cell_type": "code",
   "execution_count": 70,
   "metadata": {},
   "outputs": [],
   "source": [
    "df.iloc[:,2] = [\n",
    "    html0, html1, html2, html3, html4, html5, html6, html7, html8, html9,\n",
    "    html10, html11, html12, html13, html14, html15, html16, html17, html18, html19\n",
    "]"
   ]
  },
  {
   "cell_type": "code",
   "execution_count": 71,
   "metadata": {},
   "outputs": [],
   "source": [
    "df['date'] = today\n",
    "df.to_csv(PATH_DATA / (today + '_type3.csv'), index = False)"
   ]
  },
  {
   "cell_type": "code",
   "execution_count": 72,
   "metadata": {},
   "outputs": [],
   "source": [
    "driver.quit()"
   ]
  },
  {
   "cell_type": "markdown",
   "metadata": {},
   "source": [
    "# "
   ]
  },
  {
   "cell_type": "code",
   "execution_count": null,
   "metadata": {},
   "outputs": [],
   "source": []
  },
  {
   "cell_type": "code",
   "execution_count": null,
   "metadata": {},
   "outputs": [],
   "source": []
  }
 ],
 "metadata": {
  "kernelspec": {
   "display_name": "Python 3",
   "language": "python",
   "name": "python3"
  },
  "language_info": {
   "codemirror_mode": {
    "name": "ipython",
    "version": 3
   },
   "file_extension": ".py",
   "mimetype": "text/x-python",
   "name": "python",
   "nbconvert_exporter": "python",
   "pygments_lexer": "ipython3",
   "version": "3.7.6"
  }
 },
 "nbformat": 4,
 "nbformat_minor": 4
}
