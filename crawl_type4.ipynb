{
 "cells": [
  {
   "cell_type": "markdown",
   "metadata": {},
   "source": [
    "# type 4\n",
    "- 수정된 곳 : 1072 연수구, 1009 충북진천, 1229 세종시, 1121 대전광역시\n",
    "- 세종시는 이제 이미지 없는 듯..? -> type2로 보냄!"
   ]
  },
  {
   "cell_type": "code",
   "execution_count": 1,
   "metadata": {},
   "outputs": [],
   "source": [
    "import datetime as dt\n",
    "import numpy as np\n",
    "import pandas as pd\n",
    "from pathlib import Path\n",
    "import time\n",
    "from tqdm import tqdm\n",
    "from selenium import webdriver"
   ]
  },
  {
   "cell_type": "code",
   "execution_count": 2,
   "metadata": {},
   "outputs": [],
   "source": [
    "today = str(dt.datetime.today().date()).replace('-','')[2:]\n",
    "PATH = Path.cwd().parent / 'data' / 'images' / today\n",
    "\n",
    "chromedriver = 'C:/Users/User/Desktop/chromedriver'\n",
    "options = webdriver.ChromeOptions()\n",
    "options.add_argument('headless')\n",
    "driver = webdriver.Chrome(chromedriver, options = options) \n",
    "driver.set_window_size(1600,100000)"
   ]
  },
  {
   "cell_type": "code",
   "execution_count": 5,
   "metadata": {},
   "outputs": [],
   "source": [
    "chromedriver = 'C:/Users/User/Desktop/chromedriver'\n",
    "options = webdriver.ChromeOptions()\n",
    "options.add_argument('headless')\n",
    "driver = webdriver.Chrome(chromedriver, options = options) \n",
    "driver.set_window_size(1600,100000)"
   ]
  },
  {
   "cell_type": "code",
   "execution_count": 6,
   "metadata": {},
   "outputs": [],
   "source": [
    "nums = [\n",
    "    1087,\n",
    "    1085,\n",
    "    1200,\n",
    "    1009,\n",
    "    1011,\n",
    "    1012,\n",
    "    1016,\n",
    "    1025,\n",
    "    1065,\n",
    "    1072,\n",
    "    1074,\n",
    "    1108,\n",
    "    1144,\n",
    "    1181,\n",
    "    1182,\n",
    "    1183,\n",
    "    1198,\n",
    "    1229,\n",
    "    1121\n",
    "]"
   ]
  },
  {
   "cell_type": "code",
   "execution_count": 7,
   "metadata": {},
   "outputs": [],
   "source": [
    "urls = [\n",
    "    'https://www.geumcheon.go.kr/portal/selectBbsNttList.do?bbsNo=150302&key=3228',\n",
    "'https://www.gwangjin.go.kr/portal/bbs/B0000259/list.do?menuNo=201389',\n",
    "'https://www.yeoncheon.go.kr/index.yeoncheon?menuCd=DOM_000000141000000000',\n",
    "'https://www.jincheon.go.kr/health/sub.do?menukey=3517',\n",
    "'https://corona.chungju.go.kr/Home/7',\n",
    "'http://gyeryong.go.kr/corona.html#txt',\n",
    "'http://corona19.dangjin.go.kr/corona19/index.do?menu=1#01_68',\n",
    "'https://www.taean.go.kr/cop/bbs/BBSMSTR_000000000433/selectBoardList.do',\n",
    "'http://www.ganghwa.go.kr/open_content/main/bbs/bbsMsgList.do?bcd=covid&pgdiv=covidroute02&add1=02&pgno=1',\n",
    "'http://www.yeonsu.go.kr/covid-19/',\n",
    "'https://www.icjg.go.kr/corona19',\n",
    "'https://www.bsnamgu.go.kr/board/view.do?boardId=BBS_0000001&menuCd=DOM_000000105001001000&startPage=1&dataSid=515589',\n",
    "'https://www.gc.go.kr/dept2/post18/bbs/list.do?ptIdx=2107&mId=0702000000&sitename=%EC%95%88%EC%A0%84%EC%9E%AC%EB%82%9C%EA%B3%BC',\n",
    "'http://www.goyang.go.kr/www/emergencyPopup/BD_selectCoronaPopupRoute.do',\n",
    "'https://www.gccity.go.kr/main/board/bbs.do?mCode=F100010000&cfgIdx=237&page=1',\n",
    "'http://www.gm.go.kr/pt/user/bbs/BD_selectBbsList.do?q_bbsCode=2462',\n",
    "'https://www.yp21.go.kr/',\n",
    "'https://www.sejong.go.kr/bbs/R3391/list.do',\n",
    "'https://daejeon.go.kr/corona19/index.do?menuId=0008'\n",
    "]"
   ]
  },
  {
   "cell_type": "markdown",
   "metadata": {},
   "source": [
    "# 서울 금천구 (1087)\n",
    "18개만 나옴"
   ]
  },
  {
   "cell_type": "code",
   "execution_count": 10,
   "metadata": {},
   "outputs": [],
   "source": [
    "PATH_SCREENS = PATH / '1087'\n",
    "\n",
    "p = 1\n",
    "hrefs = []\n",
    "while True:\n",
    "    url = f'https://www.geumcheon.go.kr/portal/selectBbsNttList.do?bbsNo=150301&key=3227&pageIndex={p}'\n",
    "    driver.get(url)\n",
    "    time.sleep(0.2)\n",
    "    elems = driver.find_elements_by_css_selector('#contents > div > table > tbody > tr')\n",
    "    elems_idx = [e.find_element_by_css_selector('td.p-subject > a').get_attribute('title') for e in elems]\n",
    "    elems_hrefs = [e.find_element_by_css_selector('td.p-subject > a').get_attribute('href') for e in elems]\n",
    "    n = sum([e != '비밀글' for e in elems_idx])\n",
    "    new_hrefs = list(np.array(elems_hrefs)[:n])\n",
    "    \n",
    "    hrefs.append(new_hrefs)\n",
    "    \n",
    "    if '비밀글' in elems_idx:\n",
    "        break\n",
    "        \n",
    "    p += 1\n",
    "    \n",
    "hrefs = [j for sub in hrefs for j in sub]\n",
    "\n",
    "k = 1\n",
    "\n",
    "for href in hrefs:\n",
    "    driver.get(href)\n",
    "    time.sleep(0.2)\n",
    "    l = '0' * (3-len(str(k))) + str(k)\n",
    "    driver.find_element_by_xpath('//*[@id=\"contents\"]/div/table/tbody/tr[2]').screenshot(str(PATH_SCREENS) + '/' +  f'fig{l}.png')\n",
    "    k += 1"
   ]
  },
  {
   "cell_type": "code",
   "execution_count": 11,
   "metadata": {},
   "outputs": [
    {
     "data": {
      "text/plain": [
       "18"
      ]
     },
     "execution_count": 11,
     "metadata": {},
     "output_type": "execute_result"
    }
   ],
   "source": [
    "len(hrefs)"
   ]
  },
  {
   "cell_type": "markdown",
   "metadata": {},
   "source": [
    "# 서울 광진구 (1085)"
   ]
  },
  {
   "cell_type": "code",
   "execution_count": 13,
   "metadata": {
    "collapsed": true,
    "jupyter": {
     "outputs_hidden": true
    }
   },
   "outputs": [],
   "source": [
    "PATH_SCREENS = PATH / '1085'\n",
    "\n",
    "hrefs = []\n",
    "p = 1\n",
    "while True:\n",
    "    url = f'https://www.gwangjin.go.kr/portal/bbs/B0000259/list.do?menuNo=201389&pSiteId=portal&pageIndex={p}'\n",
    "    driver.get(url)\n",
    "    time.sleep(0.2)\n",
    "    elems = driver.find_elements_by_css_selector('#content > div.bdList > ul > li')\n",
    "    if len(elems) == 0:\n",
    "        break\n",
    "    new_hrefs = [e.find_element_by_css_selector('div > a').get_attribute('href') for e in elems]\n",
    "    hrefs.append(new_hrefs)\n",
    "    p += 1\n",
    "    \n",
    "hrefs = [j for sub in hrefs for j in sub]\n",
    "\n",
    "k = 1\n",
    "\n",
    "for href in hrefs:\n",
    "    driver.get(href)\n",
    "    time.sleep(0.5)\n",
    "    l = '0' * (3-len(str(k))) + str(k)\n",
    "    driver.find_element_by_xpath('//*[@id=\"content\"]/div[1]').screenshot(str(PATH_SCREENS) + '/' + f'fig{l}.png')\n",
    "    k += 1"
   ]
  },
  {
   "cell_type": "markdown",
   "metadata": {},
   "source": [
    "# 경기 연천군 (1200)\n",
    "- https://www.yeoncheon.go.kr/board/list.yeoncheon?boardId=BBS_0000264&menuCd=DOM_000000303007000000&startPage=1 \n",
    "- 여기 가면 아예 한글 파일로 있는데, 스크린 샷보다 매뉴얼 조교님들이 치는게 낫지 않을까? 확진자 수도 적고.."
   ]
  },
  {
   "cell_type": "code",
   "execution_count": 14,
   "metadata": {},
   "outputs": [
    {
     "data": {
      "text/plain": [
       "True"
      ]
     },
     "execution_count": 14,
     "metadata": {},
     "output_type": "execute_result"
    }
   ],
   "source": [
    "PATH_SCREENS = PATH / '1200'\n",
    "\n",
    "driver.get(urls[2])\n",
    "time.sleep(0.1)\n",
    "driver.find_element_by_xpath('/html/body/div[2]/div/div[2]/button').click()\n",
    "time.sleep(3)\n",
    "driver.find_element_by_xpath('/html/body/div[2]/div/div[2]').screenshot(str(PATH_SCREENS) + '/'  + 'fig001.png')"
   ]
  },
  {
   "cell_type": "markdown",
   "metadata": {},
   "source": [
    "# 충북 진천군 (1009), 서버 느림\n",
    "- 페이지 번호 추가\n",
    "- 아직 2페이지까지밖에 없어서 우선 이렇게 해놨는데 나중에 고쳐야 할 듯..?"
   ]
  },
  {
   "cell_type": "code",
   "execution_count": null,
   "metadata": {},
   "outputs": [],
   "source": [
    "PATH_SCREENS = PATH / '1009'\n",
    "\n",
    "hrefs = []\n",
    "for x in range(1,3):\n",
    "    url = f'https://www.jincheon.go.kr/health/sub.do?page='+str(x)+'&menukey=3517'\n",
    "    driver.get(url)\n",
    "    time.sleep(0.2)\n",
    "    elems = driver.find_elements_by_css_selector('#cmsBoardData > div.board_list > table > tbody > tr')   \n",
    "    new_hrefs = [e.find_element_by_css_selector('td.board_title.txt_title > a').get_attribute('href') for e in elems]\n",
    "    hrefs.append(new_hrefs)\n",
    "    time.sleep(0.2)\n",
    "\n",
    "hrefs = [j for sub in hrefs for j in sub]\n",
    "\n",
    "k = 1\n",
    "\n",
    "for href in hrefs:\n",
    "    driver.get(href)\n",
    "    time.sleep(0.2)\n",
    "    l = '0' * (3-len(str(k))) + str(k)\n",
    "    driver.find_element_by_xpath('//*[@id=\"cmsBoardData\"]/div[1]/table').screenshot(str(PATH_SCREENS) + '/' + f'fig{l}.png')\n",
    "    k += 1"
   ]
  },
  {
   "cell_type": "markdown",
   "metadata": {},
   "source": [
    "# 충북 충주시 (1011)"
   ]
  },
  {
   "cell_type": "code",
   "execution_count": 38,
   "metadata": {},
   "outputs": [],
   "source": [
    "PATH_SCREENS = PATH / '1011'\n",
    "driver.get(urls[4])\n",
    "n = len(driver.find_elements_by_css_selector('#contents > article > div > div > div.pagejump > a'))\n",
    "for p in range(1,n+1):\n",
    "    \n",
    "    url = f'https://corona.chungju.go.kr/Home/7?page={p}'\n",
    "    driver.get(url)\n",
    "    time.sleep(0.1)\n",
    "    elems = driver.find_elements_by_css_selector('#contents > article > div > div > div.list > table > tbody > tr')\n",
    "    for e in elems:\n",
    "        e.click()\n",
    "        time.sleep(0.2)\n",
    "    l = '0' * (3-len(str(p))) + str(p)\n",
    "    driver.find_element_by_xpath('//*[@id=\"contents\"]/article/div/div/div[2]/table').screenshot(str(PATH_SCREENS) + '/' + f'fig{l}.png')"
   ]
  },
  {
   "cell_type": "markdown",
   "metadata": {},
   "source": [
    "# 충남 계룡시 (1012)"
   ]
  },
  {
   "cell_type": "code",
   "execution_count": 39,
   "metadata": {},
   "outputs": [
    {
     "data": {
      "text/plain": [
       "True"
      ]
     },
     "execution_count": 39,
     "metadata": {},
     "output_type": "execute_result"
    }
   ],
   "source": [
    "PATH_SCREENS = PATH / '1012'\n",
    "\n",
    "driver.get(urls[5])\n",
    "time.sleep(2)\n",
    "driver.find_element_by_xpath('//*[@id=\"intro_wrap\"]/div/div[3]/div[3]/div[1]/button[1]').click()\n",
    "time.sleep(2)\n",
    "driver.find_element_by_xpath('//*[@id=\"routeList\"]').screenshot(str(PATH_SCREENS) + '/' + 'fig001.png')"
   ]
  },
  {
   "cell_type": "markdown",
   "metadata": {},
   "source": [
    "# 충남 당진시 (1016)"
   ]
  },
  {
   "cell_type": "code",
   "execution_count": 40,
   "metadata": {},
   "outputs": [
    {
     "data": {
      "text/plain": [
       "True"
      ]
     },
     "execution_count": 40,
     "metadata": {},
     "output_type": "execute_result"
    }
   ],
   "source": [
    "PATH_SCREENS = PATH / '1016'\n",
    "\n",
    "driver.get(urls[6])\n",
    "time.sleep(0.2)\n",
    "elems = driver.find_elements_by_css_selector('#test_accodion2 > li')\n",
    "for e in elems:\n",
    "    e.click()\n",
    "    time.sleep(0.2)\n",
    "    \n",
    "driver.find_element_by_xpath('//*[@id=\"tab1\"]').screenshot(str(PATH_SCREENS) + '/' + 'fig001.png')"
   ]
  },
  {
   "cell_type": "markdown",
   "metadata": {},
   "source": [
    "# 충남 태안군 (1025)"
   ]
  },
  {
   "cell_type": "code",
   "execution_count": 41,
   "metadata": {},
   "outputs": [],
   "source": [
    "PATH_SCREENS = PATH / '1025'\n",
    "\n",
    "driver.get(urls[7])\n",
    "time.sleep(0.1)\n",
    "driver.find_element_by_xpath('//*[@id=\"findWrite\"]').send_keys('확진자')\n",
    "driver.find_element_by_xpath('//*[@id=\"txt\"]/div/div[1]/div/form/fieldset/div/div[2]/input[2]').click()\n",
    "time.sleep(0.1)\n",
    "buttons = driver.find_elements_by_css_selector('#txt > div > ul > li')\n",
    "p = 1\n",
    "for j in range(1, len(buttons)+1):\n",
    "    elems = driver.find_elements_by_css_selector('#txt > div > table > tbody > tr')\n",
    "    for i in range(len(elems)):\n",
    "        new_elems = driver.find_elements_by_css_selector('#txt > div > table > tbody > tr')\n",
    "        new_elems[i].find_element_by_css_selector('td.left > div > div > form > input[type=submit]:nth-child(8)').click()\n",
    "        l = '0' * (3-len(str(p))) + str(p)\n",
    "        driver.find_element_by_xpath('//*[@id=\"txt\"]/div/div[1]').screenshot(str(PATH_SCREENS) + '/' + f'fig{l}.png')\n",
    "        p += 1\n",
    "        time.sleep(0.1)\n",
    "        driver.back()\n",
    "    if j != len(buttons):\n",
    "        \n",
    "        new_buttons = driver.find_elements_by_css_selector('#txt > div > ul > li')\n",
    "        new_buttons[j].click()\n",
    "        time.sleep(0.1)"
   ]
  },
  {
   "cell_type": "markdown",
   "metadata": {},
   "source": [
    "# 인천 강화군 (1065)"
   ]
  },
  {
   "cell_type": "code",
   "execution_count": 42,
   "metadata": {},
   "outputs": [],
   "source": [
    "PATH_SCREENS = PATH / '1065'\n",
    "\n",
    "driver.get(urls[8])\n",
    "driver.find_element_by_xpath('//*[@id=\"listsz\"]/option[11]').click()\n",
    "driver.find_element_by_xpath('//*[@id=\"keyword\"]').send_keys('확진자')\n",
    "driver.find_element_by_xpath('//*[@id=\"contents\"]/div[3]/form/fieldset/div[2]/input[2]').click()\n",
    "\n",
    "elems = driver.find_elements_by_css_selector('#contents > div.board_gallery2 > ul > li')\n",
    "hrefs = [e.find_element_by_css_selector('ul > li.title > a').get_attribute('href') for e in elems]\n",
    "\n",
    "for p, href in enumerate(hrefs):\n",
    "    driver.get(href)\n",
    "    time.sleep(0.1)\n",
    "    l = '0' * (3-len(str(p+1))) + str(p+1)\n",
    "    driver.find_element_by_xpath('//*[@id=\"contents\"]/div[3]').screenshot(str(PATH_SCREENS) + '/' + f'fig{l}.png')"
   ]
  },
  {
   "cell_type": "markdown",
   "metadata": {},
   "source": [
    "# 인천 연수구 (1072)\n",
    "- 원래 코드는 마지막 확진자만 캡쳐하는 코드여서 수정함."
   ]
  },
  {
   "cell_type": "code",
   "execution_count": 51,
   "metadata": {},
   "outputs": [
    {
     "name": "stderr",
     "output_type": "stream",
     "text": [
      "100%|████████████████████████████████████████████████████████████████████████████████| 138/138 [01:49<00:00,  1.26it/s]\n"
     ]
    }
   ],
   "source": [
    "PATH_SCREENS = PATH / '1072'\n",
    "\n",
    "driver.get(urls[9])\n",
    "time.sleep(1)\n",
    "elems = driver.find_elements_by_css_selector('#covid19_con > div:nth-child(6) > ul > li')\n",
    "for x in tqdm(range(len(elems))):\n",
    "    elems[x].click()\n",
    "    driver.find_element_by_xpath('//*[@id=\"covid19_con\"]/div[4]/ul/li['+str(x+1)+']').screenshot(str(PATH_SCREENS) + '/' + 'fig00'+str(x+1)+'.png')\n",
    "    time.sleep(0.2)\n",
    "    \n"
   ]
  },
  {
   "cell_type": "markdown",
   "metadata": {},
   "source": [
    "# 인천 중구 (1074)"
   ]
  },
  {
   "cell_type": "code",
   "execution_count": 52,
   "metadata": {},
   "outputs": [
    {
     "data": {
      "text/plain": [
       "True"
      ]
     },
     "execution_count": 52,
     "metadata": {},
     "output_type": "execute_result"
    }
   ],
   "source": [
    "PATH_SCREENS = PATH / '1074'\n",
    "\n",
    "driver.get(urls[10])\n",
    "time.sleep(0.1)\n",
    "driver.find_element_by_xpath('/html/body/div/div/div/div[2]/div/section/div[1]/button/span').click()\n",
    "time.sleep(0.5)\n",
    "driver.find_element_by_xpath('/html/body/div/div/div/div[2]/div/section').screenshot(str(PATH_SCREENS) + '/' + 'fig001.png')"
   ]
  },
  {
   "cell_type": "markdown",
   "metadata": {},
   "source": [
    "# 부산 남구 (1108)"
   ]
  },
  {
   "cell_type": "code",
   "execution_count": 53,
   "metadata": {},
   "outputs": [
    {
     "data": {
      "text/plain": [
       "True"
      ]
     },
     "execution_count": 53,
     "metadata": {},
     "output_type": "execute_result"
    }
   ],
   "source": [
    "PATH_SCREENS = PATH / '1108'\n",
    "\n",
    "driver.get(urls[11])\n",
    "time.sleep(0.1)\n",
    "driver.find_element_by_xpath('//*[@id=\"content\"]/div/div[2]/div/div/div/table/tbody/tr[3]').screenshot(str(PATH_SCREENS) + '/' + 'fig001.png')"
   ]
  },
  {
   "cell_type": "markdown",
   "metadata": {},
   "source": [
    "# 경북 김천시 (1144)"
   ]
  },
  {
   "cell_type": "code",
   "execution_count": 54,
   "metadata": {},
   "outputs": [],
   "source": [
    "PATH_SCREENS = PATH / '1144'\n",
    "\n",
    "driver.get(urls[12])\n",
    "time.sleep(0.1)\n",
    "\n",
    "elems = driver.find_elements_by_css_selector('#list > table > tbody > tr')\n",
    "for n in range(1, len(elems)+1):\n",
    "    new_elems = driver.find_elements_by_css_selector('#list > table > tbody > tr')\n",
    "    new_elems[n-1].find_element_by_css_selector('td.list_tit > a').click()\n",
    "    l = '0' * (3-len(str(n))) + str(n)\n",
    "    driver.find_element_by_xpath('//*[@id=\"ctn\"]/div').screenshot(str(PATH_SCREENS) + '/' + f'fig{l}.png')\n",
    "    driver.back()"
   ]
  },
  {
   "cell_type": "markdown",
   "metadata": {},
   "source": [
    "# 경기 고양시 (1181)"
   ]
  },
  {
   "cell_type": "code",
   "execution_count": 55,
   "metadata": {},
   "outputs": [
    {
     "name": "stderr",
     "output_type": "stream",
     "text": [
      "  5%|████▏                                                                              | 5/99 [00:49<15:37,  9.97s/it]\n"
     ]
    }
   ],
   "source": [
    "PATH_SCREENS = PATH / '1181'\n",
    "\n",
    "driver.get(urls[13])\n",
    "time.sleep(0.1)\n",
    "\n",
    "m = 1\n",
    "try:\n",
    "    for c in tqdm(range(1, 100)):\n",
    "        time.sleep(0.1)\n",
    "\n",
    "        n_rows = driver.find_elements_by_css_selector('#dataForm > table > tbody > tr')\n",
    "        for n in range(int(len(n_rows)/2)):\n",
    "            driver.find_element_by_css_selector(f'#dataForm > table > tbody > tr:nth-child({2*n+1}) > td:nth-child(3) > span.btn_plus').click()\n",
    "            l = '0' * (3-len(str(m))) + str(m)\n",
    "            time.sleep(0.3)\n",
    "            driver.find_element_by_css_selector('#dataForm > table > tbody > tr.plus_view.open').screenshot(str(PATH_SCREENS) + '/' +f'fig{l}.png')\n",
    "            m += 1\n",
    "        driver.find_element_by_css_selector(f'#dataForm > div > div > a:nth-child({c + 1})').click()\n",
    "except :\n",
    "    pass"
   ]
  },
  {
   "cell_type": "markdown",
   "metadata": {},
   "source": [
    "# 경기 과천시 (1182), 너무 느림"
   ]
  },
  {
   "cell_type": "code",
   "execution_count": 56,
   "metadata": {},
   "outputs": [],
   "source": [
    "PATH_SCREENS = PATH / '1182'\n",
    "\n",
    "driver.get(urls[14])\n",
    "time.sleep(0.1)\n",
    "driver.find_element_by_css_selector('#frm > table > tbody > tr:nth-child(1) > td.title > a').click()\n",
    "time.sleep(0.1)\n",
    "\n",
    "m = 1\n",
    "try:\n",
    "    while True:\n",
    "        time.sleep(0.1)\n",
    "        l = '0' * (3-len(str(m))) + str(m)\n",
    "        driver.find_element_by_css_selector('#content > table > tbody > tr:nth-child(3) > td ').screenshot(str(PATH_SCREENS) + '/' +f'fig{l}.png')\n",
    "        if m == 1:        \n",
    "            driver.find_element_by_css_selector('#content > div:nth-child(8) > table > tbody > tr:nth-child(2) > td.title > a').click()\n",
    "        else:\n",
    "            driver.find_element_by_css_selector('#content > div:nth-child(8) > table > tbody > tr:nth-child(3) > td.title > a').click()\n",
    "        m += 1\n",
    "except:\n",
    "    pass"
   ]
  },
  {
   "cell_type": "markdown",
   "metadata": {},
   "source": [
    "# 경기 광명시 (1183), 여기도 참 느리다"
   ]
  },
  {
   "cell_type": "code",
   "execution_count": 57,
   "metadata": {},
   "outputs": [],
   "source": [
    "PATH_SCREENS = PATH / '1183'\n",
    "\n",
    "driver.get(urls[15])\n",
    "time.sleep(1)\n",
    "\n",
    "hrefs = []\n",
    "try:\n",
    "    for n in range(1,100):\n",
    "        time.sleep(0.3)\n",
    "        elem = np.array(driver.find_elements_by_css_selector('#c-contents > div.sub_content_cont_rt_cont > table > tbody > tr'))\n",
    "        hrefs.append([tmp.find_element_by_css_selector('a').get_attribute('href') for tmp in elem])\n",
    "        driver.find_element_by_css_selector(f'#c-contents > div.sub_content_cont_rt_cont > div.page > span > a:nth-child({n+1})').click()\n",
    "except :\n",
    "    pass\n",
    "hrefs = [j for sub in hrefs for j in sub]\n",
    "\n",
    "for i, href in enumerate(hrefs):\n",
    "    driver.get(href)\n",
    "    time.sleep(0.3)\n",
    "    m = '0' * (3-len(str(i+1))) + str(i+1)\n",
    "    driver.find_element_by_css_selector('#c-contents > div.sub_content_cont_rt_cont > table > tbody > tr:nth-child(4) > td').screenshot(str(PATH_SCREENS) + '/' + f'fig{m}.png')"
   ]
  },
  {
   "cell_type": "markdown",
   "metadata": {},
   "source": [
    "# 경기 양평군 (1198)"
   ]
  },
  {
   "cell_type": "markdown",
   "metadata": {},
   "source": [
    "- 여기 스크린샷 좀 크게 찍는 게 좋을듯"
   ]
  },
  {
   "cell_type": "code",
   "execution_count": 58,
   "metadata": {},
   "outputs": [],
   "source": [
    "PATH_SCREENS = PATH / '1198'\n",
    "\n",
    "driver.get(urls[16])\n",
    "time.sleep(0.1)\n",
    "for _ in range(30):\n",
    "    driver.find_element_by_css_selector('#more').click()\n",
    "    time.sleep(0.2)\n",
    "elems = driver.find_elements_by_css_selector('body > main > div > section.tabDisease > div > div.tab_element.active > div > div > div.subTab_element.active > div > ul > li')\n",
    "css = 'body > main > div > section.tabDisease > div > div.tab_element.active > div > div > div.subTab_element.active > div > ul > li.list.list-active > div'\n",
    "for i, e in enumerate(elems):\n",
    "    e.click()\n",
    "    time.sleep(0.2)\n",
    "    m = '0' * (3-len(str(i+1))) + str(i+1)\n",
    "    driver.find_element_by_css_selector(css).screenshot(str(PATH_SCREENS) + '/' + f'fig{m}.png')"
   ]
  },
  {
   "cell_type": "markdown",
   "metadata": {},
   "source": [
    "# 세종시 (1229)"
   ]
  },
  {
   "cell_type": "code",
   "execution_count": 59,
   "metadata": {},
   "outputs": [],
   "source": [
    "PATH_SCREENS = PATH / '1229'\n",
    "\n",
    "driver.get(urls[17])\n",
    "k = 1\n",
    "buttons = driver.find_elements_by_css_selector('#txt > div > div.form-group.row > div.col-md-10.text-center > div > ul > li.page-item')\n",
    "for p in range(1, len(buttons)+1):\n",
    "    url = f'https://www.sejong.go.kr/bbs/R3391/list.do?pageIndex={p}'\n",
    "    driver.get(url)\n",
    "    elems = driver.find_elements_by_css_selector('#txt > div > div.boardCovdnm > ul > li.body')\n",
    "    for i, e in enumerate(elems):\n",
    "        e.click()\n",
    "        time.sleep(2)\n",
    "        m = '0' * (3-len(str(k))) + str(k)\n",
    "        driver.find_element_by_css_selector(f'#txt > div > div.boardCovdnm').screenshot(str(PATH_SCREENS) + '/' + f'fig{m}.png')\n",
    "        k += 1"
   ]
  },
  {
   "cell_type": "markdown",
   "metadata": {},
   "source": [
    "# 대전광역시 (통합관리, 1121 - 1125, 마지막에 error raise하게 설계했음. 사실 더 쉽게 하는 게 좋을 수도)\n",
    "- 맨 첫 페이지가 크롤링이 안돼서 그냥 첫페이지 하는 코드 위에 추가함."
   ]
  },
  {
   "cell_type": "code",
   "execution_count": 64,
   "metadata": {},
   "outputs": [
    {
     "ename": "KeyboardInterrupt",
     "evalue": "",
     "output_type": "error",
     "traceback": [
      "\u001b[1;31m---------------------------------------------------------------------------\u001b[0m",
      "\u001b[1;31mKeyboardInterrupt\u001b[0m                         Traceback (most recent call last)",
      "\u001b[1;32m<ipython-input-64-2b89dad9cb03>\u001b[0m in \u001b[0;36m<module>\u001b[1;34m()\u001b[0m\n\u001b[0;32m     24\u001b[0m         \u001b[0melems\u001b[0m \u001b[1;33m=\u001b[0m \u001b[0mdriver\u001b[0m\u001b[1;33m.\u001b[0m\u001b[0mfind_elements_by_css_selector\u001b[0m\u001b[1;33m(\u001b[0m\u001b[1;34m'#boardList > li'\u001b[0m\u001b[1;33m)\u001b[0m\u001b[1;33m\u001b[0m\u001b[0m\n\u001b[0;32m     25\u001b[0m         \u001b[1;32mfor\u001b[0m \u001b[0mi\u001b[0m\u001b[1;33m,\u001b[0m \u001b[0me\u001b[0m \u001b[1;32min\u001b[0m \u001b[0menumerate\u001b[0m\u001b[1;33m(\u001b[0m\u001b[0melems\u001b[0m\u001b[1;33m)\u001b[0m\u001b[1;33m:\u001b[0m\u001b[1;33m\u001b[0m\u001b[0m\n\u001b[1;32m---> 26\u001b[1;33m             \u001b[0mtime\u001b[0m\u001b[1;33m.\u001b[0m\u001b[0msleep\u001b[0m\u001b[1;33m(\u001b[0m\u001b[1;36m0.5\u001b[0m\u001b[1;33m)\u001b[0m\u001b[1;33m\u001b[0m\u001b[0m\n\u001b[0m\u001b[0;32m     27\u001b[0m             \u001b[0mnew_elems\u001b[0m \u001b[1;33m=\u001b[0m \u001b[0mdriver\u001b[0m\u001b[1;33m.\u001b[0m\u001b[0mfind_elements_by_css_selector\u001b[0m\u001b[1;33m(\u001b[0m\u001b[1;34m'#boardList > li'\u001b[0m\u001b[1;33m)\u001b[0m\u001b[1;33m\u001b[0m\u001b[0m\n\u001b[0;32m     28\u001b[0m             \u001b[0mnew_elems\u001b[0m\u001b[1;33m[\u001b[0m\u001b[0mi\u001b[0m\u001b[1;33m]\u001b[0m\u001b[1;33m.\u001b[0m\u001b[0mfind_element_by_css_selector\u001b[0m\u001b[1;33m(\u001b[0m\u001b[1;34m'ul > li.story_sbj > a'\u001b[0m\u001b[1;33m)\u001b[0m\u001b[1;33m.\u001b[0m\u001b[0mclick\u001b[0m\u001b[1;33m(\u001b[0m\u001b[1;33m)\u001b[0m\u001b[1;33m\u001b[0m\u001b[0m\n",
      "\u001b[1;31mKeyboardInterrupt\u001b[0m: "
     ]
    }
   ],
   "source": [
    "PATH_SCREENS = PATH / '1121'\n",
    "\n",
    "driver.get(urls[18])\n",
    "time.sleep(0.5)\n",
    "k = 1\n",
    "\n",
    "elems = driver.find_elements_by_css_selector('#boardList > li')\n",
    "for i, e in enumerate(elems):\n",
    "    time.sleep(0.5)\n",
    "    new_elems = driver.find_elements_by_css_selector('#boardList > li')\n",
    "    new_elems[i].find_element_by_css_selector('ul > li.story_sbj > a').click()\n",
    "    time.sleep(0.5)\n",
    "    m = '0' * (3-len(str(k))) + str(k)\n",
    "    driver.find_element_by_xpath('//*[@id=\"content\"]').screenshot(str(PATH_SCREENS) + '/' + f'fig{m}.png')\n",
    "    k += 1\n",
    "    \n",
    "while True:\n",
    "    buttons = driver.find_elements_by_css_selector('#boardListPage > a')\n",
    "    for i in range(3,len(buttons)-1):\n",
    "        new_buttons = driver.find_elements_by_css_selector('#boardListPage > a')\n",
    "        new_buttons[i].click()\n",
    "        time.sleep(0.5)\n",
    "        \n",
    "        elems = driver.find_elements_by_css_selector('#boardList > li')\n",
    "        for i, e in enumerate(elems):\n",
    "            time.sleep(0.5)\n",
    "            new_elems = driver.find_elements_by_css_selector('#boardList > li')\n",
    "            new_elems[i].find_element_by_css_selector('ul > li.story_sbj > a').click()\n",
    "            time.sleep(0.5)\n",
    "            m = '0' * (3-len(str(k))) + str(k)\n",
    "            driver.find_element_by_xpath('//*[@id=\"content\"]').screenshot(str(PATH_SCREENS) + '/' + f'fig{m}.png')\n",
    "            k += 1\n",
    "\n",
    "        if sum(['???? ?????? ??(????????, 4.12)' in e.text for e in driver.find_elements_by_css_selector('#boardList > li > ul > li.story_sbj > a')]) == 1:\n",
    "            raise "
   ]
  },
  {
   "cell_type": "code",
   "execution_count": 7,
   "metadata": {},
   "outputs": [],
   "source": [
    "driver.quit()"
   ]
  },
  {
   "cell_type": "code",
   "execution_count": null,
   "metadata": {},
   "outputs": [],
   "source": []
  }
 ],
 "metadata": {
  "kernelspec": {
   "display_name": "Python 3",
   "language": "python",
   "name": "python3"
  },
  "language_info": {
   "codemirror_mode": {
    "name": "ipython",
    "version": 3
   },
   "file_extension": ".py",
   "mimetype": "text/x-python",
   "name": "python",
   "nbconvert_exporter": "python",
   "pygments_lexer": "ipython3",
   "version": "3.6.5"
  }
 },
 "nbformat": 4,
 "nbformat_minor": 4
}
